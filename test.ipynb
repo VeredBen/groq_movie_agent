{
 "cells": [
  {
   "cell_type": "code",
   "execution_count": 1,
   "metadata": {},
   "outputs": [
    {
     "data": {
      "text/plain": [
       "True"
      ]
     },
     "execution_count": 1,
     "metadata": {},
     "output_type": "execute_result"
    }
   ],
   "source": [
    "import requests\n",
    "import os\n",
    "import pprint\n",
    "from dotenv import load_dotenv\n",
    "##to load credentials\n",
    "load_dotenv()"
   ]
  },
  {
   "cell_type": "code",
   "execution_count": 2,
   "metadata": {},
   "outputs": [],
   "source": [
    "omdb_api_key = os.getenv('OMDB_API_KEY')"
   ]
  },
  {
   "cell_type": "code",
   "execution_count": 3,
   "metadata": {},
   "outputs": [
    {
     "name": "stdout",
     "output_type": "stream",
     "text": [
      "{'Actors': 'Sam Worthington, Zoe Saldana, Sigourney Weaver',\n",
      " 'Awards': 'Won 3 Oscars. 91 wins & 131 nominations total',\n",
      " 'BoxOffice': '$785,221,649',\n",
      " 'Country': 'United States',\n",
      " 'DVD': 'N/A',\n",
      " 'Director': 'James Cameron',\n",
      " 'Genre': 'Action, Adventure, Fantasy',\n",
      " 'Language': 'English, Spanish',\n",
      " 'Metascore': '83',\n",
      " 'Plot': 'A paraplegic Marine dispatched to the moon Pandora on a unique '\n",
      "         'mission becomes torn between following his orders and protecting the '\n",
      "         'world he feels is his home.',\n",
      " 'Poster': 'https://m.media-amazon.com/images/M/MV5BZDA0OGQxNTItMDZkMC00N2UyLTg3MzMtYTJmNjg3Nzk5MzRiXkEyXkFqcGdeQXVyMjUzOTY1NTc@._V1_SX300.jpg',\n",
      " 'Production': 'N/A',\n",
      " 'Rated': 'PG-13',\n",
      " 'Ratings': [{'Source': 'Internet Movie Database', 'Value': '7.9/10'},\n",
      "             {'Source': 'Rotten Tomatoes', 'Value': '81%'},\n",
      "             {'Source': 'Metacritic', 'Value': '83/100'}],\n",
      " 'Released': '18 Dec 2009',\n",
      " 'Response': 'True',\n",
      " 'Runtime': '162 min',\n",
      " 'Title': 'Avatar',\n",
      " 'Type': 'movie',\n",
      " 'Website': 'N/A',\n",
      " 'Writer': 'James Cameron',\n",
      " 'Year': '2009',\n",
      " 'imdbID': 'tt0499549',\n",
      " 'imdbRating': '7.9',\n",
      " 'imdbVotes': '1,394,035'}\n"
     ]
    }
   ],
   "source": [
    "title = 'Avatar'\n",
    "year = '2009'\n",
    "movieInfo = requests.get('http://www.omdbapi.com/?apikey='+omdb_api_key+'&t='+title+'&y='+year).json()\n",
    "pprint.pprint(movieInfo)"
   ]
  },
  {
   "cell_type": "code",
   "execution_count": 4,
   "metadata": {},
   "outputs": [],
   "source": [
    "import omdb\n",
    "omdb.set_default('apikey', omdb_api_key)"
   ]
  },
  {
   "cell_type": "code",
   "execution_count": 5,
   "metadata": {},
   "outputs": [
    {
     "name": "stdout",
     "output_type": "stream",
     "text": [
      "{'actors': 'Jeff Bridges, Matt Damon, Hailee Steinfeld',\n",
      " 'awards': 'Nominated for 10 Oscars. 38 wins & 169 nominations total',\n",
      " 'box_office': '$171,243,005',\n",
      " 'country': 'United States',\n",
      " 'director': 'Ethan Coen, Joel Coen',\n",
      " 'dvd': 'N/A',\n",
      " 'genre': 'Drama, Western',\n",
      " 'imdb_id': 'tt1403865',\n",
      " 'imdb_rating': '7.6',\n",
      " 'imdb_votes': '358,704',\n",
      " 'language': 'English',\n",
      " 'metascore': '80',\n",
      " 'plot': 'Following the murder of her father by hired hand Tom Chaney, '\n",
      "         '14-year-old farm girl Mattie Ross sets out to capture the killer. To '\n",
      "         'aid her, she hires the toughest U.S. marshal she can find, a man '\n",
      "         'with \"true grit,\" Reuben J. \"Rooster\" Cogburn. Mattie insists on '\n",
      "         'accompanying Cogburn, whose drinking, sloth, and generally reprobate '\n",
      "         'character do not augment her faith in him. Against his wishes, she '\n",
      "         'joins him in his trek into the Indian Nations in search of Chaney. '\n",
      "         'They are joined by Texas Ranger LaBoeuf, who wants Chaney for his '\n",
      "         'own purposes. The unlikely trio find danger and surprises on the '\n",
      "         'journey, and each has his or her \"grit\" tested.',\n",
      " 'poster': 'https://m.media-amazon.com/images/M/MV5BMTU5MjU3MTI4OF5BMl5BanBnXkFtZTcwMTQxOTAxNA@@._V1_SX300.jpg',\n",
      " 'production': 'N/A',\n",
      " 'rated': 'PG-13',\n",
      " 'ratings': [{'source': 'Internet Movie Database', 'value': '7.6/10'},\n",
      "             {'source': 'Rotten Tomatoes', 'value': '95%'},\n",
      "             {'source': 'Metacritic', 'value': '80/100'}],\n",
      " 'released': '22 Dec 2010',\n",
      " 'response': 'True',\n",
      " 'runtime': '110 min',\n",
      " 'title': 'True Grit',\n",
      " 'tomato_consensus': 'N/A',\n",
      " 'tomato_fresh': 'N/A',\n",
      " 'tomato_image': 'N/A',\n",
      " 'tomato_meter': 'N/A',\n",
      " 'tomato_rating': 'N/A',\n",
      " 'tomato_reviews': 'N/A',\n",
      " 'tomato_rotten': 'N/A',\n",
      " 'tomato_url': 'https://www.rottentomatoes.com/m/true-grit-2010/',\n",
      " 'tomato_user_meter': 'N/A',\n",
      " 'tomato_user_rating': 'N/A',\n",
      " 'tomato_user_reviews': 'N/A',\n",
      " 'type': 'movie',\n",
      " 'website': 'N/A',\n",
      " 'writer': 'Joel Coen, Ethan Coen, Charles Portis',\n",
      " 'year': '2010'}\n"
     ]
    }
   ],
   "source": [
    "result = omdb.get(title='True Grit', fullplot=True, tomatoes=True)\n",
    "pprint.pprint(result)"
   ]
  },
  {
   "cell_type": "code",
   "execution_count": 6,
   "metadata": {},
   "outputs": [
    {
     "name": "stdout",
     "output_type": "stream",
     "text": [
      "{'actors': 'John Wayne, Kim Darby, Glen Campbell',\n",
      " 'awards': 'Won 1 Oscar. 6 wins & 7 nominations total',\n",
      " 'box_office': '$276,418',\n",
      " 'country': 'United States',\n",
      " 'director': 'Henry Hathaway',\n",
      " 'dvd': 'N/A',\n",
      " 'genre': 'Adventure, Drama, Western',\n",
      " 'imdb_id': 'tt0065126',\n",
      " 'imdb_rating': '7.4',\n",
      " 'imdb_votes': '51,744',\n",
      " 'language': 'English',\n",
      " 'metascore': '83',\n",
      " 'plot': '1880 Yell County, Arkansas. With revenge etched on her mind after '\n",
      "         'the murder of her father by a once-trusted, cowardly jackal, plucky '\n",
      "         'Mattie Ross rides to Fort Smith. Now, nothing else matters, and '\n",
      "         'while aching to bring his killer to justice, Mattie enlists the help '\n",
      "         'of the ageing U.S. Marshal Reuben \"Rooster\" J. Cogburn: a rugged, '\n",
      "         'one-eyed lawman. And, before long, La Boeuf, a young Texas Ranger '\n",
      "         'thirsty for bounty money, joins in. However, as the unlikely trio '\n",
      "         'embarks on a dangerous journey into the heart of Indian Territory, '\n",
      "         'the odds are against them. But, only rabid vengeance keeps '\n",
      "         'determined Mattie going. Is true grit enough to see justice served?',\n",
      " 'poster': 'https://m.media-amazon.com/images/M/MV5BMjEwNzRlMzUtODIwMS00N2IwLWE1ZTgtODYzNWY0MGJhODY3XkEyXkFqcGdeQXVyMjI4MjA5MzA@._V1_SX300.jpg',\n",
      " 'production': 'N/A',\n",
      " 'rated': 'G',\n",
      " 'ratings': [{'source': 'Internet Movie Database', 'value': '7.4/10'},\n",
      "             {'source': 'Rotten Tomatoes', 'value': '88%'},\n",
      "             {'source': 'Metacritic', 'value': '83/100'}],\n",
      " 'released': '21 Jun 1969',\n",
      " 'response': 'True',\n",
      " 'runtime': '128 min',\n",
      " 'title': 'True Grit',\n",
      " 'tomato_consensus': 'N/A',\n",
      " 'tomato_fresh': 'N/A',\n",
      " 'tomato_image': 'N/A',\n",
      " 'tomato_meter': 'N/A',\n",
      " 'tomato_rating': 'N/A',\n",
      " 'tomato_reviews': 'N/A',\n",
      " 'tomato_rotten': 'N/A',\n",
      " 'tomato_url': 'https://www.rottentomatoes.com/m/true_grit/',\n",
      " 'tomato_user_meter': 'N/A',\n",
      " 'tomato_user_rating': 'N/A',\n",
      " 'tomato_user_reviews': 'N/A',\n",
      " 'type': 'movie',\n",
      " 'website': 'N/A',\n",
      " 'writer': 'Charles Portis, Marguerite Roberts',\n",
      " 'year': '1969'}\n"
     ]
    }
   ],
   "source": [
    "\n",
    "result = omdb.get(title='True Grit', year=1969, fullplot=True, tomatoes=True)\n",
    "pprint.pprint(result)"
   ]
  },
  {
   "cell_type": "code",
   "execution_count": 17,
   "metadata": {},
   "outputs": [
    {
     "name": "stdout",
     "output_type": "stream",
     "text": [
      "[{'imdb_id': 'tt3717532',\n",
      "  'poster': 'https://m.media-amazon.com/images/M/MV5BMjk1NzA4Njg4Ml5BMl5BanBnXkFtZTgwMDgxODQ5MzE@._V1_SX300.jpg',\n",
      "  'title': 'The Last: Naruto the Movie',\n",
      "  'type': 'movie',\n",
      "  'year': '2014'},\n",
      " {'imdb_id': 'tt4618398',\n",
      "  'poster': 'https://m.media-amazon.com/images/M/MV5BNDIwYjg5YzItZTJmMC00YjJhLWFiNjYtMDU5MmQxOTQxODM2XkEyXkFqcGdeQXVyMjc2Nzg5OTQ@._V1_SX300.jpg',\n",
      "  'title': 'Boruto: Naruto the Movie',\n",
      "  'type': 'movie',\n",
      "  'year': '2015'},\n",
      " {'imdb_id': 'tt2290828',\n",
      "  'poster': 'https://m.media-amazon.com/images/M/MV5BMTQ5MTcyNDYwMV5BMl5BanBnXkFtZTgwNzMzNzc0MjE@._V1_SX300.jpg',\n",
      "  'title': 'Road to Ninja - Naruto the Movie',\n",
      "  'type': 'movie',\n",
      "  'year': '2012'},\n",
      " {'imdb_id': 'tt0476680',\n",
      "  'poster': 'https://m.media-amazon.com/images/M/MV5BYWFkMTJjODEtMjY2NC00OGRiLThkYjMtMzBjMzVhY2FlZTEyXkEyXkFqcGdeQXVyNjYwMjkwMjg@._V1_SX300.jpg',\n",
      "  'title': 'Naruto the Movie: Ninja Clash in the Land of Snow',\n",
      "  'type': 'movie',\n",
      "  'year': '2004'},\n",
      " {'imdb_id': 'tt1999167',\n",
      "  'poster': 'https://m.media-amazon.com/images/M/MV5BMDgyZmRkYjUtMWExNS00NDQyLTliZTMtOTkwY2M3ZWU0ZjNmXkEyXkFqcGdeQXVyMjc2Nzg5OTQ@._V1_SX300.jpg',\n",
      "  'title': 'Naruto Shippuden the Movie: Blood Prison',\n",
      "  'type': 'movie',\n",
      "  'year': '2011'},\n",
      " {'imdb_id': 'tt1160524',\n",
      "  'poster': 'https://m.media-amazon.com/images/M/MV5BNTE2ODAyNTkxNl5BMl5BanBnXkFtZTgwNTAzMjA2MDE@._V1_SX300.jpg',\n",
      "  'title': 'Naruto Shippuden: The Movie - Bonds',\n",
      "  'type': 'movie',\n",
      "  'year': '2008'},\n",
      " {'imdb_id': 'tt0791188',\n",
      "  'poster': 'https://m.media-amazon.com/images/M/MV5BMDE3NjY3Y2MtODE4YS00YzFiLThhMTMtY2Q1NTZkODE4M2NlXkEyXkFqcGdeQXVyNjYwMjkwMjg@._V1_SX300.jpg',\n",
      "  'title': 'Naruto the Movie 2: Legend of the Stone of Gelel',\n",
      "  'type': 'movie',\n",
      "  'year': '2005'},\n",
      " {'imdb_id': 'tt0988982',\n",
      "  'poster': 'https://m.media-amazon.com/images/M/MV5BNWM0NTU4ZjQtNzRmYi00MzM0LTgxZDMtNjFlYWUxMTRhNDUxXkEyXkFqcGdeQXVyMjc4OTQ1OTA@._V1_SX300.jpg',\n",
      "  'title': 'Naruto Shippûden: The Movie',\n",
      "  'type': 'movie',\n",
      "  'year': '2007'},\n",
      " {'imdb_id': 'tt1071815',\n",
      "  'poster': 'https://m.media-amazon.com/images/M/MV5BNjk2ZWIzOTYtMGUxMC00MzdhLWI3ZGMtZGJhNzZmMDYxYjJlXkEyXkFqcGdeQXVyMjQ3NTQ4MjQ@._V1_SX300.jpg',\n",
      "  'title': 'Naruto the Movie 3: Guardians of the Crescent Moon Kingdom',\n",
      "  'type': 'movie',\n",
      "  'year': '2006'},\n",
      " {'imdb_id': 'tt1481363',\n",
      "  'poster': 'https://m.media-amazon.com/images/M/MV5BOTllNzNlYjEtNGQ2OS00ZWE3LWFhNjctNmQyMzkzYWZjNWI4XkEyXkFqcGdeQXVyMjc2Nzg5OTQ@._V1_SX300.jpg',\n",
      "  'title': 'Naruto Shippûden: The Movie 3: Inheritors of the Will of Fire',\n",
      "  'type': 'movie',\n",
      "  'year': '2009'}]\n"
     ]
    }
   ],
   "source": [
    "import omdb\n",
    "import pprint\n",
    "\n",
    "# Search for movies with the title \"True Grit\" (adjust as needed)\n",
    "# search_results = omdb.search(string='True Grit')\n",
    "\n",
    "search_results = omdb.search_movie('Naruto')\n",
    "pprint.pprint(search_results)\n"
   ]
  },
  {
   "cell_type": "code",
   "execution_count": 15,
   "metadata": {},
   "outputs": [
    {
     "name": "stdout",
     "output_type": "stream",
     "text": [
      "{'actors': 'Junko Takeuchi, Maile Flanagan, Kate Higgins',\n",
      " 'awards': 'N/A',\n",
      " 'box_office': 'N/A',\n",
      " 'country': 'Japan',\n",
      " 'director': 'N/A',\n",
      " 'dvd': 'N/A',\n",
      " 'genre': 'Animation, Action, Adventure',\n",
      " 'imdb_id': 'tt0409591',\n",
      " 'imdb_rating': '8.4',\n",
      " 'imdb_votes': '128,657',\n",
      " 'language': 'Japanese',\n",
      " 'metascore': 'N/A',\n",
      " 'plot': 'Many years ago, in the hidden village of Konoha, lived a great demon '\n",
      "         \"fox. When it swung one of it's nine tails, a tsunami occurred. The \"\n",
      "         'fourth hokage sealed this demon fox inside a boy in exchange for his '\n",
      "         'own life. Naruto was that boy, and he grew up with no family, and '\n",
      "         'the villagers hated him thinking that he himself was the demon fox. '\n",
      "         \"Naruto's dream is to become Hokage, and have the villagers \"\n",
      "         'acknowledge him.',\n",
      " 'poster': 'https://m.media-amazon.com/images/M/MV5BZmQ5NGFiNWEtMmMyMC00MDdiLTg4YjktOGY5Yzc2MDUxMTE1XkEyXkFqcGdeQXVyNTA4NzY1MzY@._V1_SX300.jpg',\n",
      " 'production': 'N/A',\n",
      " 'rated': 'TV-PG',\n",
      " 'ratings': [{'source': 'Internet Movie Database', 'value': '8.4/10'}],\n",
      " 'released': '10 Sep 2005',\n",
      " 'response': 'True',\n",
      " 'runtime': '24 min',\n",
      " 'title': 'Naruto',\n",
      " 'tomato_consensus': 'N/A',\n",
      " 'tomato_fresh': 'N/A',\n",
      " 'tomato_image': 'N/A',\n",
      " 'tomato_meter': 'N/A',\n",
      " 'tomato_rating': 'N/A',\n",
      " 'tomato_reviews': 'N/A',\n",
      " 'tomato_rotten': 'N/A',\n",
      " 'tomato_url': 'N/A',\n",
      " 'tomato_user_meter': 'N/A',\n",
      " 'tomato_user_rating': 'N/A',\n",
      " 'tomato_user_reviews': 'N/A',\n",
      " 'total_seasons': '1',\n",
      " 'type': 'series',\n",
      " 'website': 'N/A',\n",
      " 'writer': 'Masashi Kishimoto',\n",
      " 'year': '2002–2007'}\n"
     ]
    }
   ],
   "source": [
    "result = omdb.get(title='Naruto', fullplot=True, tomatoes=True)\n",
    "pprint.pprint(result)"
   ]
  },
  {
   "cell_type": "code",
   "execution_count": null,
   "metadata": {},
   "outputs": [],
   "source": []
  }
 ],
 "metadata": {
  "kernelspec": {
   "display_name": "langchain",
   "language": "python",
   "name": "langchain"
  },
  "language_info": {
   "codemirror_mode": {
    "name": "ipython",
    "version": 3
   },
   "file_extension": ".py",
   "mimetype": "text/x-python",
   "name": "python",
   "nbconvert_exporter": "python",
   "pygments_lexer": "ipython3",
   "version": "3.11.4"
  }
 },
 "nbformat": 4,
 "nbformat_minor": 2
}
