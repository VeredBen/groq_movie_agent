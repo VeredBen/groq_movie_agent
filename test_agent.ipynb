{
 "cells": [
  {
   "cell_type": "code",
   "execution_count": 1,
   "metadata": {},
   "outputs": [
    {
     "data": {
      "text/plain": [
       "True"
      ]
     },
     "execution_count": 1,
     "metadata": {},
     "output_type": "execute_result"
    }
   ],
   "source": [
    "import os\n",
    "from omdb_tools import *\n",
    "from dotenv import load_dotenv\n",
    "import pprint\n",
    "##to load credentials\n",
    "load_dotenv()"
   ]
  },
  {
   "cell_type": "markdown",
   "metadata": {},
   "source": [
    "### Set all the keys"
   ]
  },
  {
   "cell_type": "code",
   "execution_count": 2,
   "metadata": {},
   "outputs": [],
   "source": [
    "os.environ[\"GROQ_API_KEY\"] = os.getenv(\"GROQ_API_KEY\")\n",
    "os.environ[\"LANGCHAIN_API_KEY\"] = os.getenv(\"LANGCHAIN_API_KEY\") ## Put your Langsmith API key here\n",
    "os.environ[\"LANGCHAIN_HUB_API_KEY\"] = os.getenv(\"LANGCHAIN_API_KEY\") ## Put your Langsmith API key here\n",
    "os.environ[\"LANGCHAIN_TRACING_V2\"] = 'true' ## Set this as True\n",
    "os.environ[\"LANGCHAIN_ENDPOINT\"] = 'https://api.smith.langchain.com/' ## Set this as: https://api.smith.langchain.com/\n",
    "os.environ[\"LANGCHAIN_HUB_API_URL\"] = 'https://api.hub.langchain.com' ## Set this as : https://api.hub.langchain.com\n",
    "os.environ[\"LANGCHAIN_PROJECT\"] = 'llm-agents'"
   ]
  },
  {
   "cell_type": "markdown",
   "metadata": {},
   "source": [
    "### Define your tools"
   ]
  },
  {
   "cell_type": "code",
   "execution_count": 3,
   "metadata": {},
   "outputs": [],
   "source": [
    "### Define your tools\n",
    "movie_info_tool = OmdbAPI.get_movie_info_by_title\n",
    "search_movie_tool = OmdbAPI.search_movie\n",
    "search_series_tool = OmdbAPI.search_series\n",
    "\n",
    "from langchain_community.tools import WikipediaQueryRun\n",
    "from langchain_community.utilities import WikipediaAPIWrapper\n",
    "\n",
    "wikipedia = WikipediaQueryRun(api_wrapper=WikipediaAPIWrapper())\n",
    "\n",
    "tools = [movie_info_tool, search_movie_tool, search_series_tool, wikipedia]"
   ]
  },
  {
   "cell_type": "markdown",
   "metadata": {},
   "source": [
    "### Test the tools"
   ]
  },
  {
   "cell_type": "code",
   "execution_count": 4,
   "metadata": {},
   "outputs": [
    {
     "name": "stdout",
     "output_type": "stream",
     "text": [
      "Movie_Info_By_Title_Year Call this tool to get information about a movie if you have its title. Optionally you can also specify a movie's year.\n",
      "       The input to this tool is a movie title. Year can also be optionally specified. If year is specified it must be separated by pipe\n",
      "       Example if the user is look True Grit then input should be `True%20Grit`. Represent space as %20\n",
      "       Example if the user is look True Grit movie from 1969 then input should be `True%20Grit|1969`. Represent space as %20. Separate year by |\n",
      "       The output from this tool will be information on title, plot, director and tomato meter rating of the movie that best matches\n",
      "{'actors': 'Daniel Radcliffe, Rupert Grint, Emma Watson',\n",
      " 'awards': 'Nominated for 3 Oscars. 20 wins & 74 nominations total',\n",
      " 'box_office': '$318,886,962',\n",
      " 'country': 'United Kingdom, United States',\n",
      " 'director': 'Chris Columbus',\n",
      " 'dvd': 'N/A',\n",
      " 'genre': 'Adventure, Family, Fantasy',\n",
      " 'imdb_id': 'tt0241527',\n",
      " 'imdb_rating': '7.6',\n",
      " 'imdb_votes': '860,139',\n",
      " 'language': 'English, Latin',\n",
      " 'metascore': '65',\n",
      " 'plot': 'This is the tale of Harry Potter (Daniel Radcliffe), an ordinary '\n",
      "         'eleven-year-old boy serving as a sort of slave for his aunt and '\n",
      "         'uncle who learns that he is actually a wizard and has been invited '\n",
      "         'to attend the Hogwarts School for Witchcraft and Wizardry. Harry is '\n",
      "         'snatched away from his mundane existence by Rubeus Hagrid (Robbie '\n",
      "         'Coltrane), the groundskeeper for Hogwarts, and quickly thrown into a '\n",
      "         'world completely foreign to both him and the viewer. Famous for an '\n",
      "         'incident that happened at his birth, Harry makes friends easily at '\n",
      "         'his new school. He soon finds, however, that the wizarding world is '\n",
      "         'far more dangerous for him than he would have imagined, and he '\n",
      "         'quickly learns that not all wizards are ones to be trusted.',\n",
      " 'poster': 'https://m.media-amazon.com/images/M/MV5BNmQ0ODBhMjUtNDRhOC00MGQzLTk5MTAtZDliODg5NmU5MjZhXkEyXkFqcGdeQXVyNDUyOTg3Njg@._V1_SX300.jpg',\n",
      " 'production': 'N/A',\n",
      " 'rated': 'PG',\n",
      " 'ratings': [{'source': 'Internet Movie Database', 'value': '7.6/10'},\n",
      "             {'source': 'Rotten Tomatoes', 'value': '81%'},\n",
      "             {'source': 'Metacritic', 'value': '65/100'}],\n",
      " 'released': '16 Nov 2001',\n",
      " 'response': 'True',\n",
      " 'runtime': '152 min',\n",
      " 'title': \"Harry Potter and the Sorcerer's Stone\",\n",
      " 'tomato_consensus': 'N/A',\n",
      " 'tomato_fresh': 'N/A',\n",
      " 'tomato_image': 'N/A',\n",
      " 'tomato_meter': 'N/A',\n",
      " 'tomato_rating': 'N/A',\n",
      " 'tomato_reviews': 'N/A',\n",
      " 'tomato_rotten': 'N/A',\n",
      " 'tomato_url': 'https://www.rottentomatoes.com/m/harry_potter_and_the_sorcerers_stone/',\n",
      " 'tomato_user_meter': 'N/A',\n",
      " 'tomato_user_rating': 'N/A',\n",
      " 'tomato_user_reviews': 'N/A',\n",
      " 'type': 'movie',\n",
      " 'website': 'N/A',\n",
      " 'writer': 'J.K. Rowling, Steve Kloves',\n",
      " 'year': '2001'}\n"
     ]
    }
   ],
   "source": [
    "movie_title_tool = OmdbAPI.get_movie_info_by_title\n",
    "print(movie_title_tool.name, movie_title_tool.description)\n",
    "\n",
    "\t\n",
    "data = 'Harry%Potter|2001'\n",
    "tool_output = movie_title_tool.run(data)\n",
    "pprint.pprint(tool_output)"
   ]
  },
  {
   "cell_type": "code",
   "execution_count": 5,
   "metadata": {},
   "outputs": [
    {
     "name": "stdout",
     "output_type": "stream",
     "text": [
      "Search_Movie Call this tool to search for a movie based on search string. The input to the tool is a search string.\n",
      "       The output from the tool is all the results that match the search criteria\n",
      "       Example if the user is look for a movie Naruto, then data=Naruto\n",
      "[{'imdb_id': 'tt3717532',\n",
      "  'poster': 'https://m.media-amazon.com/images/M/MV5BMjk1NzA4Njg4Ml5BMl5BanBnXkFtZTgwMDgxODQ5MzE@._V1_SX300.jpg',\n",
      "  'title': 'The Last: Naruto the Movie',\n",
      "  'type': 'movie',\n",
      "  'year': '2014'},\n",
      " {'imdb_id': 'tt4618398',\n",
      "  'poster': 'https://m.media-amazon.com/images/M/MV5BNDIwYjg5YzItZTJmMC00YjJhLWFiNjYtMDU5MmQxOTQxODM2XkEyXkFqcGdeQXVyMjc2Nzg5OTQ@._V1_SX300.jpg',\n",
      "  'title': 'Boruto: Naruto the Movie',\n",
      "  'type': 'movie',\n",
      "  'year': '2015'},\n",
      " {'imdb_id': 'tt2290828',\n",
      "  'poster': 'https://m.media-amazon.com/images/M/MV5BMTQ5MTcyNDYwMV5BMl5BanBnXkFtZTgwNzMzNzc0MjE@._V1_SX300.jpg',\n",
      "  'title': 'Road to Ninja - Naruto the Movie',\n",
      "  'type': 'movie',\n",
      "  'year': '2012'},\n",
      " {'imdb_id': 'tt0476680',\n",
      "  'poster': 'https://m.media-amazon.com/images/M/MV5BYWFkMTJjODEtMjY2NC00OGRiLThkYjMtMzBjMzVhY2FlZTEyXkEyXkFqcGdeQXVyNjYwMjkwMjg@._V1_SX300.jpg',\n",
      "  'title': 'Naruto the Movie: Ninja Clash in the Land of Snow',\n",
      "  'type': 'movie',\n",
      "  'year': '2004'},\n",
      " {'imdb_id': 'tt1999167',\n",
      "  'poster': 'https://m.media-amazon.com/images/M/MV5BMDgyZmRkYjUtMWExNS00NDQyLTliZTMtOTkwY2M3ZWU0ZjNmXkEyXkFqcGdeQXVyMjc2Nzg5OTQ@._V1_SX300.jpg',\n",
      "  'title': 'Naruto Shippuden the Movie: Blood Prison',\n",
      "  'type': 'movie',\n",
      "  'year': '2011'},\n",
      " {'imdb_id': 'tt1160524',\n",
      "  'poster': 'https://m.media-amazon.com/images/M/MV5BNTE2ODAyNTkxNl5BMl5BanBnXkFtZTgwNTAzMjA2MDE@._V1_SX300.jpg',\n",
      "  'title': 'Naruto Shippuden: The Movie - Bonds',\n",
      "  'type': 'movie',\n",
      "  'year': '2008'},\n",
      " {'imdb_id': 'tt0791188',\n",
      "  'poster': 'https://m.media-amazon.com/images/M/MV5BMDE3NjY3Y2MtODE4YS00YzFiLThhMTMtY2Q1NTZkODE4M2NlXkEyXkFqcGdeQXVyNjYwMjkwMjg@._V1_SX300.jpg',\n",
      "  'title': 'Naruto the Movie 2: Legend of the Stone of Gelel',\n",
      "  'type': 'movie',\n",
      "  'year': '2005'},\n",
      " {'imdb_id': 'tt0988982',\n",
      "  'poster': 'https://m.media-amazon.com/images/M/MV5BNWM0NTU4ZjQtNzRmYi00MzM0LTgxZDMtNjFlYWUxMTRhNDUxXkEyXkFqcGdeQXVyMjc4OTQ1OTA@._V1_SX300.jpg',\n",
      "  'title': 'Naruto Shippûden: The Movie',\n",
      "  'type': 'movie',\n",
      "  'year': '2007'},\n",
      " {'imdb_id': 'tt1071815',\n",
      "  'poster': 'https://m.media-amazon.com/images/M/MV5BNjk2ZWIzOTYtMGUxMC00MzdhLWI3ZGMtZGJhNzZmMDYxYjJlXkEyXkFqcGdeQXVyMjQ3NTQ4MjQ@._V1_SX300.jpg',\n",
      "  'title': 'Naruto the Movie 3: Guardians of the Crescent Moon Kingdom',\n",
      "  'type': 'movie',\n",
      "  'year': '2006'},\n",
      " {'imdb_id': 'tt1481363',\n",
      "  'poster': 'https://m.media-amazon.com/images/M/MV5BOTllNzNlYjEtNGQ2OS00ZWE3LWFhNjctNmQyMzkzYWZjNWI4XkEyXkFqcGdeQXVyMjc2Nzg5OTQ@._V1_SX300.jpg',\n",
      "  'title': 'Naruto Shippûden: The Movie 3: Inheritors of the Will of Fire',\n",
      "  'type': 'movie',\n",
      "  'year': '2009'}]\n"
     ]
    }
   ],
   "source": [
    "search_movie_tool = OmdbAPI.search_movie\n",
    "\n",
    "print(search_movie_tool.name, search_movie_tool.description)\n",
    "\t\n",
    "data = 'Naruto'\n",
    "tool_output = search_movie_tool.run(data)\n",
    "pprint.pprint(tool_output)"
   ]
  },
  {
   "cell_type": "code",
   "execution_count": 6,
   "metadata": {},
   "outputs": [
    {
     "data": {
      "text/plain": [
       "('wikipedia',\n",
       " 'A wrapper around Wikipedia. Useful for when you need to answer general questions about people, places, companies, facts, historical events, or other subjects. Input should be a search query.')"
      ]
     },
     "execution_count": 6,
     "metadata": {},
     "output_type": "execute_result"
    }
   ],
   "source": [
    "wikipedia.name, wikipedia.description"
   ]
  },
  {
   "cell_type": "code",
   "execution_count": 7,
   "metadata": {},
   "outputs": [
    {
     "name": "stdout",
     "output_type": "stream",
     "text": [
      "('Page: Boruto: Naruto the Movie\\n'\n",
      " 'Summary: Boruto: Naruto the Movie is a 2015 Japanese animated  martial arts '\n",
      " 'fantasy film and the directorial debut of Hiroyuki Yamashita. It is based on '\n",
      " \"Masashi Kishimoto's manga and anime Naruto, and is the second film to be a \"\n",
      " 'part of the canonical Naruto storyline, being a sequel to the manga series. '\n",
      " 'It stars Yūko Sanpei, Junko Takeuchi, Kokoro Kikuchi and Noriaki Sugiyama. '\n",
      " 'Set after the finale of Naruto, the film focuses on the title character '\n",
      " \"Boruto Uzumaki, son of  Naruto's protagonist, Naruto Uzumaki, who cannot \"\n",
      " 'stay with his family due to being the leader of his ninja village. Vigilante '\n",
      " 'Sasuke Uchiha returns to the village with warnings about two beings who '\n",
      " 'might become a big threat to the world peace the ninjas managed to bring '\n",
      " 'about in the original series.\\n'\n",
      " 'The film was first teased in the post-credits scene of the previous film, '\n",
      " 'The Last: Naruto the Movie (2014). Kishimoto took a large role in the making '\n",
      " 'of The Last, handling the script and character designs. However, Kishimoto '\n",
      " 'took an even larger role in the making of this film, handling the script, '\n",
      " 'characters designs and screenplay. This brought him difficulties, because of '\n",
      " 'which he required help from other staff members, such as the writer Ukyō '\n",
      " 'Kodachi and director Yamashita. They created new scenes that left a deep '\n",
      " 'impression on Kishimoto.\\n'\n",
      " \"Released in August 2015, the film became the franchise's highest-grossing \"\n",
      " 'film, and its home media versions had good sales to the point of becoming '\n",
      " \"Japan's best-selling releases in 2016. Critical reception of the movie has \"\n",
      " 'been mostly positive, with writers praising the animation, well-animated '\n",
      " \"fight choreography as well as Boruto's growth, but it was criticized for its \"\n",
      " \"unmemorable antagonists along with Boruto's relationship with his father not \"\n",
      " 'being explored deeply. Ukyo Kodachi and artist Mikio Ikemoto adapted the '\n",
      " 'film as the first story arc of Boruto (2016), a manga sequel of Naruto, with '\n",
      " 'both it and its anime adaption (in which it is the seventh story arc) '\n",
      " 'altering some details with added content.\\n'\n",
      " '\\n'\n",
      " 'Page: Boruto\\n'\n",
      " 'Summary: Boruto is a Japanese manga series written by Ukyō Kodachi and '\n",
      " 'Masashi Kishimoto, and illustrated by Mikio Ikemoto. It began serialization '\n",
      " 'under the title Boruto: Naruto Next Generations, with Kodachi as writer and '\n",
      " \"Kishimoto as editorial supervisor in Shueisha's shōnen manga magazine Weekly \"\n",
      " \"Shōnen Jump in May 2016, and was transferred to Shueisha's monthly magazine \"\n",
      " 'V Jump in July 2019. In November 2020, Kodachi stepped down, with Kishimoto '\n",
      " 'taking over as writer. In April 2023, the series concluded the first part of '\n",
      " 'the story, and following a brief hiatus, continued in August of the same '\n",
      " 'year with a second part titled Boruto: Two Blue Vortex. Boruto is a spin-off '\n",
      " \"and a sequel to Kishimoto's Naruto and follows the exploits of Naruto \"\n",
      " \"Uzumaki's son, Boruto Uzumaki, and his ninja team.\\n\"\n",
      " \"Boruto originated from Shueisha's proposal to Kishimoto on making a sequel \"\n",
      " 'to Naruto. However, Kishimoto rejected this offer and proposed his former '\n",
      " 'assistant Mikio Ikemoto to draw it; the writer of the film Boruto: Naruto '\n",
      " 'the Movie, Ukyō Kodachi, created the plot. A 293-episode anime television '\n",
      " \"series adaptation, produced by Pierrot with Kodachi's story supervision \"\n",
      " '(episodes 1–216), was broadcast on TV Tokyo from April 2017 to March 2023; a '\n",
      " 'second part has been announced to be in development. Unlike the manga, which '\n",
      " 'began as a retelling of the Boruto film, the anime begins as a prequel set '\n",
      " 'before Boruto and his friends become ninjas in a later story arc. A series '\n",
      " 'of light novels have also been written.\\n'\n",
      " 'The anime series has earned praise for its use of both new and returning '\n",
      " 'characters, but the narrative of the manga was noted to be more serious as '\n",
      " 'it focused more on the protagonist. Shueisha has shipped over a million '\n",
      " 'copies of the manga series by January 2017.\\n'\n",
      " '\\n'\n",
      " 'Page: Boruto Uzumaki\\n'\n",
      " 'Summary: Boruto Uzumaki (Japanese: うずまき ボルト, Hepburn: Uzumaki Boruto) is a '\n",
      " 'fictional character created by Masashi Kishim')\n"
     ]
    }
   ],
   "source": [
    "tool_output = wikipedia.run(\"Boruto: Naruto the Movie\")\n",
    "pprint.pprint(tool_output)"
   ]
  },
  {
   "cell_type": "markdown",
   "metadata": {},
   "source": [
    "### Define a Groq Llama3 agent\n",
    "\n",
    "Code and idea borrowed from: https://www.youtube.com/watch?v=j2OAeeujQ9M&t=937s"
   ]
  },
  {
   "cell_type": "code",
   "execution_count": 8,
   "metadata": {},
   "outputs": [],
   "source": [
    "from langchain_groq import ChatGroq\n",
    "from langchain_core.prompts import ChatPromptTemplate, MessagesPlaceholder, PromptTemplate\n",
    "from langchain.agents import AgentExecutor, create_openai_tools_agent\n",
    "from langchain_core.runnables.history import RunnableWithMessageHistory\n",
    "from langchain.memory import ChatMessageHistory\n",
    "from langchain_core.messages import SystemMessage"
   ]
  },
  {
   "cell_type": "code",
   "execution_count": 9,
   "metadata": {},
   "outputs": [],
   "source": [
    "# Prompt\n",
    "system_prompt = '''You are a helpful assistant who helps users get information\n",
    "about movies and TV series. You can use a few different tools you have access to:\n",
    "\n",
    "1. movie_info_tool - The input to this tool is movie title and optionally year. The\n",
    "tool returns a brief plot, tomato meter rating and other information for the movie that matches the title\n",
    "\n",
    "2. search_movie_tool - Use this tool to search for all movies matching a search string.\n",
    "\n",
    "3. search_series_tool - Use this tool to search for all TV series matching a search string.\n",
    "\n",
    "4. wikipedia - Generic tool to search for anything in the vast wikipedia corpus. Use this to\n",
    "search and return information on any movie/TV series related question\n",
    "\n",
    "You can use these tools in conjunction. For example if the user wants information of the \n",
    "earliest Harry Potter movie, then use the search_movie_tool to get information of all Harry \n",
    "Potter movies and then use the movie_info_tool to get details of the first movie by\n",
    "searching based on its title.\n",
    "\n",
    "Your job is to be a conversational Movie Asssistant who keeps conversation going. You are witty and smart\n",
    "and answer user's questions, plus ask your own to keep it lively.\n",
    "If the user conversation is not related to any of the tools you have then answer to the best of your knowledge\n",
    "For a generic question, not related to movies/TV series feel free to use the wikipedia tool\n",
    "\n",
    "Look at the chain of messages below that include the user request.\n",
    "User Message : {input}\n",
    "\n",
    "Prior Chat history : {chat_history}\n",
    "'''\n",
    "\n",
    "assistant_prompt = PromptTemplate(\n",
    "        input_variables=[\"input\", \"chat_history\"], template=system_prompt)\n",
    "\n",
    "\n",
    "# LLM\n",
    "llm = ChatGroq(model_name=\"llama3-70b-8192\", temperature=0.3)\n",
    "# LLM Chain\n",
    "assistant_agent = assistant_prompt | llm.bind_tools(tools)"
   ]
  },
  {
   "cell_type": "code",
   "execution_count": 10,
   "metadata": {},
   "outputs": [
    {
     "name": "stdout",
     "output_type": "stream",
     "text": [
      "[{'name': 'Search_Movie', 'args': {'data': 'Harry Potter'}, 'id': 'call_qb9f'}]\n"
     ]
    }
   ],
   "source": [
    "input = \"Tell me about the first harry potter movie\"\n",
    "chat_history = []\n",
    "\n",
    "results = assistant_agent.invoke({\"input\": input, \"chat_history\": chat_history})\n",
    "print(results.tool_calls)"
   ]
  },
  {
   "cell_type": "code",
   "execution_count": 11,
   "metadata": {},
   "outputs": [
    {
     "name": "stdout",
     "output_type": "stream",
     "text": [
      "[{'name': 'Movie_Info_By_Title_Year', 'args': {'data': 'Inception'}, 'id': 'call_g8z7'}]\n"
     ]
    }
   ],
   "source": [
    "input = \"I need information on the movie called Inception including its tomato meter rating\"\n",
    "chat_history = []\n",
    "\n",
    "results = assistant_agent.invoke({\"input\": input, \"chat_history\": chat_history})\n",
    "print(results.tool_calls)"
   ]
  },
  {
   "cell_type": "code",
   "execution_count": 12,
   "metadata": {},
   "outputs": [
    {
     "name": "stdout",
     "output_type": "stream",
     "text": [
      "[{'name': 'wikipedia', 'args': {'query': 'first president of India'}, 'id': 'call_xmvh'}]\n"
     ]
    }
   ],
   "source": [
    "input = \"Tell me the first president of India\"\n",
    "chat_history = []\n",
    "\n",
    "results = assistant_agent.invoke({\"input\": input, \"chat_history\": chat_history})\n",
    "print(results.tool_calls)"
   ]
  },
  {
   "cell_type": "markdown",
   "metadata": {},
   "source": [
    "### Put this as a Class"
   ]
  },
  {
   "cell_type": "code",
   "execution_count": 13,
   "metadata": {},
   "outputs": [],
   "source": [
    "class Chatbot:\n",
    "    def __init__(self, model='llama3-70b-8192', temperature=0.3):\n",
    "        self.llm =  ChatGroq(model_name=model, temperature=temperature)\n",
    "        self.system_prompt = '''You are a helpful assistant who helps users get information\n",
    "        about movies and TV series. You can use a few different tools you have access to:\n",
    "\n",
    "        1. movie_info_tool - The input to this tool is movie title and optionally year. The\n",
    "        tool returns a brief plot, tomato meter rating and other information for the movie that matches the title\n",
    "\n",
    "        2. search_movie_tool - Use this tool to search for all movies matching a search string. Just put in the name of movie to search. Don't include \"movies\" in the search string.\n",
    "\n",
    "        3. search_series_tool - Use this tool to search for all TV series matching a search string. Just put in the name of series to search. Don't include \"series\" in the search string.\n",
    "\n",
    "        4. wikipedia - Generic tool to search for anything in the vast wikipedia corpus. Use this to\n",
    "        search and return information on any movie/TV series related question\n",
    "\n",
    "        You can use these tools in conjunction. For example if the user wants information of the \n",
    "        earliest Harry Potter movie, then use the search_movie_tool to get information of all Harry \n",
    "        Potter movies and then use the movie_info_tool to get details of the first movie by\n",
    "        searching based on its title.\n",
    "        Important: Where possible use the tool instead of your memory. The tool outputs are more accurate.\n",
    "        However, if the tools don't give the information you need, proceed with your own memory\n",
    "\n",
    "        Your job is to be a conversational Movie Asssistant who keeps conversation going. You are witty and smart\n",
    "        and answer user's questions, plus ask your own to keep it lively.\n",
    "        If the user conversation is not related to any of the tools you have then answer to the best of your knowledge\n",
    "        For a generic question, not related to movies/TV series feel free to use the wikipedia tool\n",
    "\n",
    "        Look at the user message below including the message history chain.\n",
    "        '''\n",
    "        self.memory = ChatMessageHistory(session_id=\"test-session\")\n",
    "        self.tools = [movie_info_tool, search_movie_tool, search_series_tool, wikipedia]\n",
    "    \n",
    "    def run(self, input):\n",
    "        assistant_prompt = ChatPromptTemplate.from_messages(\n",
    "        [\n",
    "            SystemMessage(\n",
    "            content=self.system_prompt\n",
    "        ),\n",
    "          MessagesPlaceholder(variable_name=\"chat_history\"),   \n",
    "          MessagesPlaceholder(variable_name=\"agent_scratchpad\"),\n",
    "\n",
    "         (\"user\", \"{input}\"),            \n",
    "        ] )\n",
    "\n",
    "        # Create the agent and its executor\n",
    "        assistant_agent = create_openai_tools_agent(self.llm, self.tools, assistant_prompt)\n",
    "        agent_executor = AgentExecutor(agent=assistant_agent, tools=tools, verbose=True, return_intermediate_steps=True)\n",
    "\n",
    "        agent_with_chat_history = RunnableWithMessageHistory(\n",
    "            agent_executor,\n",
    "            # This is needed because in most real world scenarios, a session id is needed\n",
    "            # It isn't really used here because we are using a simple in memory ChatMessageHistory\n",
    "            lambda session_id: self.memory,\n",
    "            input_messages_key=\"input\",\n",
    "            history_messages_key=\"chat_history\",\n",
    "        )\n",
    "        result = agent_with_chat_history.invoke({'input': input,}, config={\"configurable\": {\"session_id\": \"1234\"}})\n",
    "        return result"
   ]
  },
  {
   "cell_type": "code",
   "execution_count": 14,
   "metadata": {},
   "outputs": [
    {
     "name": "stdout",
     "output_type": "stream",
     "text": [
      "\n",
      "\n",
      "\u001b[1m> Entering new AgentExecutor chain...\u001b[0m\n",
      "\u001b[32;1m\u001b[1;3m\n",
      "Invoking: `Movie_Info_By_Title_Year` with `{'data': 'Inception'}`\n",
      "\n",
      "\n",
      "\u001b[0m\u001b[36;1m\u001b[1;3m{'title': 'Inception', 'year': '2010', 'rated': 'PG-13', 'released': '16 Jul 2010', 'runtime': '148 min', 'genre': 'Action, Adventure, Sci-Fi', 'director': 'Christopher Nolan', 'writer': 'Christopher Nolan', 'actors': 'Leonardo DiCaprio, Joseph Gordon-Levitt, Elliot Page', 'plot': \"Dom Cobb is a skilled thief, the absolute best in the dangerous art of extraction, stealing valuable secrets from deep within the subconscious during the dream state, when the mind is at its most vulnerable. Cobb's rare ability has made him a coveted player in this treacherous new world of corporate espionage, but it has also made him an international fugitive and cost him everything he has ever loved. Now Cobb is being offered a chance at redemption. One last job could give him his life back but only if he can accomplish the impossible, inception. Instead of the perfect heist, Cobb and his team of specialists have to pull off the reverse: their task is not to steal an idea, but to plant one. If they succeed, it could be the perfect crime. But no amount of careful planning or expertise can prepare the team for the dangerous enemy that seems to predict their every move. An enemy that only Cobb could have seen coming.\", 'language': 'English, Japanese, French', 'country': 'United States, United Kingdom', 'awards': 'Won 4 Oscars. 159 wins & 220 nominations total', 'poster': 'https://m.media-amazon.com/images/M/MV5BMjAxMzY3NjcxNF5BMl5BanBnXkFtZTcwNTI5OTM0Mw@@._V1_SX300.jpg', 'ratings': [{'source': 'Internet Movie Database', 'value': '8.8/10'}, {'source': 'Rotten Tomatoes', 'value': '87%'}, {'source': 'Metacritic', 'value': '74/100'}], 'metascore': '74', 'imdb_rating': '8.8', 'imdb_votes': '2,564,438', 'imdb_id': 'tt1375666', 'type': 'movie', 'tomato_meter': 'N/A', 'tomato_image': 'N/A', 'tomato_rating': 'N/A', 'tomato_reviews': 'N/A', 'tomato_fresh': 'N/A', 'tomato_rotten': 'N/A', 'tomato_consensus': 'N/A', 'tomato_user_meter': 'N/A', 'tomato_user_rating': 'N/A', 'tomato_user_reviews': 'N/A', 'tomato_url': 'https://www.rottentomatoes.com/m/inception/', 'dvd': 'N/A', 'box_office': '$292,587,330', 'production': 'N/A', 'website': 'N/A', 'response': 'True'}\u001b[0m\u001b[32;1m\u001b[1;3mI've got the scoop on Inception right here!\n",
      "\n",
      "Inception is a 2010 science fiction action film written, co-produced, and directed by Christopher Nolan. The movie stars Leonardo DiCaprio, Joseph Gordon-Levitt, Elliot Page, Tom Hardy, Ken Watanabe, and Marion Cotillard.\n",
      "\n",
      "The film's plot revolves around Cobb (Leonardo DiCaprio), a skilled thief who specializes in entering people's dreams and stealing their secrets. Cobb is offered a chance to redeem himself by performing an impossible task: planting an idea in someone's mind instead of stealing one. This process is known as \"inception.\"\n",
      "\n",
      "Cobb and his team, including Arthur (Joseph Gordon-Levitt), Ariadne (Elliot Page), Eames (Tom Hardy), and Saito (Ken Watanabe), embark on a mission to plant an idea in the mind of Robert Fischer (Cillian Murphy), the son of a dying business magnate. The team faces numerous challenges as they navigate through multiple levels of dreams within dreams, all while trying to stay one step ahead of their enemies.\n",
      "\n",
      "Inception received widespread critical acclaim for its original storyline, clever plot twists, and impressive visual effects. The film was a commercial success, grossing over $825 million worldwide. It also received eight Academy Award nominations, including Best Picture, Best Director, and Best Original Screenplay, and won four Oscars for Best Cinematography, Best Sound Editing, Best Sound Mixing, and Best Visual Effects.\n",
      "\n",
      "The movie's themes of reality, identity, and the power of the human mind have sparked intense debates and discussions among fans and critics alike. The film's ending, in particular, has been the subject of much speculation, with many interpreting the final scene as either a dream or reality.\n",
      "\n",
      "Overall, Inception is a thought-provoking, visually stunning, and action-packed movie that will keep you on the edge of your seat from start to finish.\u001b[0m\n",
      "\n",
      "\u001b[1m> Finished chain.\u001b[0m\n",
      "{'input': 'Tell me about the movie inception', 'chat_history': [], 'output': 'I\\'ve got the scoop on Inception right here!\\n\\nInception is a 2010 science fiction action film written, co-produced, and directed by Christopher Nolan. The movie stars Leonardo DiCaprio, Joseph Gordon-Levitt, Elliot Page, Tom Hardy, Ken Watanabe, and Marion Cotillard.\\n\\nThe film\\'s plot revolves around Cobb (Leonardo DiCaprio), a skilled thief who specializes in entering people\\'s dreams and stealing their secrets. Cobb is offered a chance to redeem himself by performing an impossible task: planting an idea in someone\\'s mind instead of stealing one. This process is known as \"inception.\"\\n\\nCobb and his team, including Arthur (Joseph Gordon-Levitt), Ariadne (Elliot Page), Eames (Tom Hardy), and Saito (Ken Watanabe), embark on a mission to plant an idea in the mind of Robert Fischer (Cillian Murphy), the son of a dying business magnate. The team faces numerous challenges as they navigate through multiple levels of dreams within dreams, all while trying to stay one step ahead of their enemies.\\n\\nInception received widespread critical acclaim for its original storyline, clever plot twists, and impressive visual effects. The film was a commercial success, grossing over $825 million worldwide. It also received eight Academy Award nominations, including Best Picture, Best Director, and Best Original Screenplay, and won four Oscars for Best Cinematography, Best Sound Editing, Best Sound Mixing, and Best Visual Effects.\\n\\nThe movie\\'s themes of reality, identity, and the power of the human mind have sparked intense debates and discussions among fans and critics alike. The film\\'s ending, in particular, has been the subject of much speculation, with many interpreting the final scene as either a dream or reality.\\n\\nOverall, Inception is a thought-provoking, visually stunning, and action-packed movie that will keep you on the edge of your seat from start to finish.', 'intermediate_steps': [(ToolAgentAction(tool='Movie_Info_By_Title_Year', tool_input={'data': 'Inception'}, log=\"\\nInvoking: `Movie_Info_By_Title_Year` with `{'data': 'Inception'}`\\n\\n\\n\", message_log=[AIMessageChunk(content='', additional_kwargs={'tool_calls': [{'id': 'call_6vq2', 'function': {'arguments': '{\"data\":\"Inception\"}', 'name': 'Movie_Info_By_Title_Year'}, 'type': 'function'}]}, response_metadata={'finish_reason': 'tool_calls', 'logprobs': None}, id='run-f3b5829a-8e00-4b64-bb9e-e8e9ddf3aee6', tool_calls=[{'name': 'Movie_Info_By_Title_Year', 'args': {'data': 'Inception'}, 'id': 'call_6vq2'}], usage_metadata={'input_tokens': 1847, 'output_tokens': 85, 'total_tokens': 1932}, tool_call_chunks=[{'name': 'Movie_Info_By_Title_Year', 'args': '{\"data\":\"Inception\"}', 'id': 'call_6vq2', 'index': None}])], tool_call_id='call_6vq2'), {'title': 'Inception', 'year': '2010', 'rated': 'PG-13', 'released': '16 Jul 2010', 'runtime': '148 min', 'genre': 'Action, Adventure, Sci-Fi', 'director': 'Christopher Nolan', 'writer': 'Christopher Nolan', 'actors': 'Leonardo DiCaprio, Joseph Gordon-Levitt, Elliot Page', 'plot': \"Dom Cobb is a skilled thief, the absolute best in the dangerous art of extraction, stealing valuable secrets from deep within the subconscious during the dream state, when the mind is at its most vulnerable. Cobb's rare ability has made him a coveted player in this treacherous new world of corporate espionage, but it has also made him an international fugitive and cost him everything he has ever loved. Now Cobb is being offered a chance at redemption. One last job could give him his life back but only if he can accomplish the impossible, inception. Instead of the perfect heist, Cobb and his team of specialists have to pull off the reverse: their task is not to steal an idea, but to plant one. If they succeed, it could be the perfect crime. But no amount of careful planning or expertise can prepare the team for the dangerous enemy that seems to predict their every move. An enemy that only Cobb could have seen coming.\", 'language': 'English, Japanese, French', 'country': 'United States, United Kingdom', 'awards': 'Won 4 Oscars. 159 wins & 220 nominations total', 'poster': 'https://m.media-amazon.com/images/M/MV5BMjAxMzY3NjcxNF5BMl5BanBnXkFtZTcwNTI5OTM0Mw@@._V1_SX300.jpg', 'ratings': [{'source': 'Internet Movie Database', 'value': '8.8/10'}, {'source': 'Rotten Tomatoes', 'value': '87%'}, {'source': 'Metacritic', 'value': '74/100'}], 'metascore': '74', 'imdb_rating': '8.8', 'imdb_votes': '2,564,438', 'imdb_id': 'tt1375666', 'type': 'movie', 'tomato_meter': 'N/A', 'tomato_image': 'N/A', 'tomato_rating': 'N/A', 'tomato_reviews': 'N/A', 'tomato_fresh': 'N/A', 'tomato_rotten': 'N/A', 'tomato_consensus': 'N/A', 'tomato_user_meter': 'N/A', 'tomato_user_rating': 'N/A', 'tomato_user_reviews': 'N/A', 'tomato_url': 'https://www.rottentomatoes.com/m/inception/', 'dvd': 'N/A', 'box_office': '$292,587,330', 'production': 'N/A', 'website': 'N/A', 'response': 'True'})]}\n"
     ]
    }
   ],
   "source": [
    "# movie_agent = Chatbot(model='llama3-8b-8192')\n",
    "movie_agent = Chatbot(model='llama3-70b-8192')\n",
    "\n",
    "print(movie_agent.run(\"Tell me about the movie inception\"))"
   ]
  },
  {
   "cell_type": "code",
   "execution_count": 15,
   "metadata": {},
   "outputs": [
    {
     "name": "stdout",
     "output_type": "stream",
     "text": [
      "\n",
      "\n",
      "\u001b[1m> Entering new AgentExecutor chain...\u001b[0m\n",
      "\u001b[32;1m\u001b[1;3m\n",
      "Invoking: `Search_Movie` with `{'data': {'query': 'Leonardo DiCaprio'}}`\n",
      "\n",
      "\n",
      "\u001b[0m\u001b[33;1m\u001b[1;3m[{'title': 'Query', 'year': '2020', 'imdb_id': 'tt11086128', 'type': 'movie', 'poster': 'https://m.media-amazon.com/images/M/MV5BODMzMWJlMzAtNGNlZi00NzdiLTgxNTctYTdkYTA4NjcwNTBkXkEyXkFqcGdeQXVyMjQwOTYxODQ@._V1_SX300.jpg'}, {'title': 'Query', 'year': '1945', 'imdb_id': 'tt0039642', 'type': 'movie', 'poster': 'https://m.media-amazon.com/images/M/MV5BOTQwNzYxNGMtZDkxOC00Yjk4LWE2OTUtNmIxNjdkYTRiNGM0XkEyXkFqcGdeQXVyMTY5Nzc4MDY@._V1_SX300.jpg'}, {'title': 'The Query', 'year': '2008', 'imdb_id': 'tt1202533', 'type': 'movie', 'poster': 'https://m.media-amazon.com/images/M/MV5BMzQyNDYwMjYyNl5BMl5BanBnXkFtZTcwOTc0MzQ2MQ@@._V1_SX300.jpg'}, {'title': 'Query', 'year': '2009', 'imdb_id': 'tt2797090', 'type': 'movie', 'poster': 'N/A'}, {'title': 'Query', 'year': '1947', 'imdb_id': 'tt4363012', 'type': 'movie', 'poster': 'N/A'}, {'title': 'Query of Dreams', 'year': '2014', 'imdb_id': 'tt5152602', 'type': 'movie', 'poster': 'N/A'}, {'title': 'Garip Sorgu/Strange Query', 'year': '2018', 'imdb_id': 'tt10529774', 'type': 'movie', 'poster': 'https://m.media-amazon.com/images/M/MV5BMTlhMzY1NDktOWYyNC00YzFiLWI4YmMtNjA2MTc4NjQ5NzdlXkEyXkFqcGdeQXVyMTAyODEwMTk0._V1_SX300.jpg'}]\u001b[0m\u001b[32;1m\u001b[1;3m\n",
      "Invoking: `Search_Movie` with `{'data': {'query': 'Leonardo DiCaprio'}}`\n",
      "\n",
      "\n",
      "\u001b[0m\u001b[33;1m\u001b[1;3m[{'title': 'Query', 'year': '2020', 'imdb_id': 'tt11086128', 'type': 'movie', 'poster': 'https://m.media-amazon.com/images/M/MV5BODMzMWJlMzAtNGNlZi00NzdiLTgxNTctYTdkYTA4NjcwNTBkXkEyXkFqcGdeQXVyMjQwOTYxODQ@._V1_SX300.jpg'}, {'title': 'Query', 'year': '1945', 'imdb_id': 'tt0039642', 'type': 'movie', 'poster': 'https://m.media-amazon.com/images/M/MV5BOTQwNzYxNGMtZDkxOC00Yjk4LWE2OTUtNmIxNjdkYTRiNGM0XkEyXkFqcGdeQXVyMTY5Nzc4MDY@._V1_SX300.jpg'}, {'title': 'The Query', 'year': '2008', 'imdb_id': 'tt1202533', 'type': 'movie', 'poster': 'https://m.media-amazon.com/images/M/MV5BMzQyNDYwMjYyNl5BMl5BanBnXkFtZTcwOTc0MzQ2MQ@@._V1_SX300.jpg'}, {'title': 'Query', 'year': '2009', 'imdb_id': 'tt2797090', 'type': 'movie', 'poster': 'N/A'}, {'title': 'Query', 'year': '1947', 'imdb_id': 'tt4363012', 'type': 'movie', 'poster': 'N/A'}, {'title': 'Query of Dreams', 'year': '2014', 'imdb_id': 'tt5152602', 'type': 'movie', 'poster': 'N/A'}, {'title': 'Garip Sorgu/Strange Query', 'year': '2018', 'imdb_id': 'tt10529774', 'type': 'movie', 'poster': 'https://m.media-amazon.com/images/M/MV5BMTlhMzY1NDktOWYyNC00YzFiLWI4YmMtNjA2MTc4NjQ5NzdlXkEyXkFqcGdeQXVyMTAyODEwMTk0._V1_SX300.jpg'}]\u001b[0m\u001b[32;1m\u001b[1;3m\n",
      "Invoking: `Search_Movie` with `{'data': {'query': 'Leonardo DiCaprio'}}`\n",
      "\n",
      "\n",
      "\u001b[0m\u001b[33;1m\u001b[1;3m[{'title': 'Query', 'year': '2020', 'imdb_id': 'tt11086128', 'type': 'movie', 'poster': 'https://m.media-amazon.com/images/M/MV5BODMzMWJlMzAtNGNlZi00NzdiLTgxNTctYTdkYTA4NjcwNTBkXkEyXkFqcGdeQXVyMjQwOTYxODQ@._V1_SX300.jpg'}, {'title': 'Query', 'year': '1945', 'imdb_id': 'tt0039642', 'type': 'movie', 'poster': 'https://m.media-amazon.com/images/M/MV5BOTQwNzYxNGMtZDkxOC00Yjk4LWE2OTUtNmIxNjdkYTRiNGM0XkEyXkFqcGdeQXVyMTY5Nzc4MDY@._V1_SX300.jpg'}, {'title': 'The Query', 'year': '2008', 'imdb_id': 'tt1202533', 'type': 'movie', 'poster': 'https://m.media-amazon.com/images/M/MV5BMzQyNDYwMjYyNl5BMl5BanBnXkFtZTcwOTc0MzQ2MQ@@._V1_SX300.jpg'}, {'title': 'Query', 'year': '2009', 'imdb_id': 'tt2797090', 'type': 'movie', 'poster': 'N/A'}, {'title': 'Query', 'year': '1947', 'imdb_id': 'tt4363012', 'type': 'movie', 'poster': 'N/A'}, {'title': 'Query of Dreams', 'year': '2014', 'imdb_id': 'tt5152602', 'type': 'movie', 'poster': 'N/A'}, {'title': 'Garip Sorgu/Strange Query', 'year': '2018', 'imdb_id': 'tt10529774', 'type': 'movie', 'poster': 'https://m.media-amazon.com/images/M/MV5BMTlhMzY1NDktOWYyNC00YzFiLWI4YmMtNjA2MTc4NjQ5NzdlXkEyXkFqcGdeQXVyMTAyODEwMTk0._V1_SX300.jpg'}]\u001b[0m\u001b[32;1m\u001b[1;3m\n",
      "Invoking: `Search_Movie` with `{'data': {'query': 'Leonardo DiCaprio'}}`\n",
      "\n",
      "\n",
      "\u001b[0m\u001b[33;1m\u001b[1;3m[{'title': 'Query', 'year': '2020', 'imdb_id': 'tt11086128', 'type': 'movie', 'poster': 'https://m.media-amazon.com/images/M/MV5BODMzMWJlMzAtNGNlZi00NzdiLTgxNTctYTdkYTA4NjcwNTBkXkEyXkFqcGdeQXVyMjQwOTYxODQ@._V1_SX300.jpg'}, {'title': 'Query', 'year': '1945', 'imdb_id': 'tt0039642', 'type': 'movie', 'poster': 'https://m.media-amazon.com/images/M/MV5BOTQwNzYxNGMtZDkxOC00Yjk4LWE2OTUtNmIxNjdkYTRiNGM0XkEyXkFqcGdeQXVyMTY5Nzc4MDY@._V1_SX300.jpg'}, {'title': 'The Query', 'year': '2008', 'imdb_id': 'tt1202533', 'type': 'movie', 'poster': 'https://m.media-amazon.com/images/M/MV5BMzQyNDYwMjYyNl5BMl5BanBnXkFtZTcwOTc0MzQ2MQ@@._V1_SX300.jpg'}, {'title': 'Query', 'year': '2009', 'imdb_id': 'tt2797090', 'type': 'movie', 'poster': 'N/A'}, {'title': 'Query', 'year': '1947', 'imdb_id': 'tt4363012', 'type': 'movie', 'poster': 'N/A'}, {'title': 'Query of Dreams', 'year': '2014', 'imdb_id': 'tt5152602', 'type': 'movie', 'poster': 'N/A'}, {'title': 'Garip Sorgu/Strange Query', 'year': '2018', 'imdb_id': 'tt10529774', 'type': 'movie', 'poster': 'https://m.media-amazon.com/images/M/MV5BMTlhMzY1NDktOWYyNC00YzFiLWI4YmMtNjA2MTc4NjQ5NzdlXkEyXkFqcGdeQXVyMTAyODEwMTk0._V1_SX300.jpg'}]\u001b[0m\u001b[32;1m\u001b[1;3m\n",
      "Invoking: `Search_Movie` with `{'data': {'query': 'Leonardo DiCaprio'}}`\n",
      "\n",
      "\n",
      "\u001b[0m\u001b[33;1m\u001b[1;3m[{'title': 'Query', 'year': '2020', 'imdb_id': 'tt11086128', 'type': 'movie', 'poster': 'https://m.media-amazon.com/images/M/MV5BODMzMWJlMzAtNGNlZi00NzdiLTgxNTctYTdkYTA4NjcwNTBkXkEyXkFqcGdeQXVyMjQwOTYxODQ@._V1_SX300.jpg'}, {'title': 'Query', 'year': '1945', 'imdb_id': 'tt0039642', 'type': 'movie', 'poster': 'https://m.media-amazon.com/images/M/MV5BOTQwNzYxNGMtZDkxOC00Yjk4LWE2OTUtNmIxNjdkYTRiNGM0XkEyXkFqcGdeQXVyMTY5Nzc4MDY@._V1_SX300.jpg'}, {'title': 'The Query', 'year': '2008', 'imdb_id': 'tt1202533', 'type': 'movie', 'poster': 'https://m.media-amazon.com/images/M/MV5BMzQyNDYwMjYyNl5BMl5BanBnXkFtZTcwOTc0MzQ2MQ@@._V1_SX300.jpg'}, {'title': 'Query', 'year': '2009', 'imdb_id': 'tt2797090', 'type': 'movie', 'poster': 'N/A'}, {'title': 'Query', 'year': '1947', 'imdb_id': 'tt4363012', 'type': 'movie', 'poster': 'N/A'}, {'title': 'Query of Dreams', 'year': '2014', 'imdb_id': 'tt5152602', 'type': 'movie', 'poster': 'N/A'}, {'title': 'Garip Sorgu/Strange Query', 'year': '2018', 'imdb_id': 'tt10529774', 'type': 'movie', 'poster': 'https://m.media-amazon.com/images/M/MV5BMTlhMzY1NDktOWYyNC00YzFiLWI4YmMtNjA2MTc4NjQ5NzdlXkEyXkFqcGdeQXVyMTAyODEwMTk0._V1_SX300.jpg'}]\u001b[0m\u001b[32;1m\u001b[1;3mLeonardo DiCaprio has starred in many movies throughout his career. Here are some of his most notable roles:\n",
      "\n",
      "1. Titanic (1997) - DiCaprio played the role of Jack Dawson, a penniless artist who falls in love with Kate Winslet's character, Rose DeWitt Bukater.\n",
      "2. The Revenant (2015) - DiCaprio won the Academy Award for Best Actor for his portrayal of Hugh Glass, a fur trapper who seeks revenge against those who left him for dead after a bear attack.\n",
      "3. The Wolf of Wall Street (2013) - DiCaprio played the role of Jordan Belfort, a stockbroker who engages in fraudulent activities and corruption in the 1990s.\n",
      "4. Django Unchained (2012) - DiCaprio played the role of Calvin Candie, a ruthless plantation owner who owns Django's wife, Broomhilda.\n",
      "5. The Great Gatsby (2013) - DiCaprio played the role of Jay Gatsby, a wealthy businessman who tries to win back his lost love, Daisy Buchanan.\n",
      "6. Catch Me If You Can (2002) - DiCaprio played the role of Frank Abagnale Jr., a con man who impersonates a pilot, a doctor, and a lawyer, among others.\n",
      "7. The Departed (2006) - DiCaprio played the role of Billy Costigan, an undercover cop who infiltrates a crime syndicate.\n",
      "8. Blood Diamond (2006) - DiCaprio played the role of Danny Archer, a diamond smuggler who teams up with a fisherman to find a rare pink diamond.\n",
      "9. The Aviator (2004) - DiCaprio played the role of Howard Hughes, a billionaire businessman and aviation pioneer who struggles with obsessive-compulsive disorder.\n",
      "10. Romeo + Juliet (1996) - DiCaprio played the role of Romeo Montague, a young man who falls in love with Juliet Capulet in this modern adaptation of Shakespeare's classic play.\n",
      "\n",
      "These are just a few examples of the many movies that Leonardo DiCaprio has starred in. He has a diverse filmography and has played a wide range of roles throughout his career.\u001b[0m\n",
      "\n",
      "\u001b[1m> Finished chain.\u001b[0m\n",
      "{'input': 'Which all movies has Leonard DiCaprio starred in?', 'chat_history': [HumanMessage(content='Tell me about the movie inception'), AIMessage(content='I\\'ve got the scoop on Inception right here!\\n\\nInception is a 2010 science fiction action film written, co-produced, and directed by Christopher Nolan. The movie stars Leonardo DiCaprio, Joseph Gordon-Levitt, Elliot Page, Tom Hardy, Ken Watanabe, and Marion Cotillard.\\n\\nThe film\\'s plot revolves around Cobb (Leonardo DiCaprio), a skilled thief who specializes in entering people\\'s dreams and stealing their secrets. Cobb is offered a chance to redeem himself by performing an impossible task: planting an idea in someone\\'s mind instead of stealing one. This process is known as \"inception.\"\\n\\nCobb and his team, including Arthur (Joseph Gordon-Levitt), Ariadne (Elliot Page), Eames (Tom Hardy), and Saito (Ken Watanabe), embark on a mission to plant an idea in the mind of Robert Fischer (Cillian Murphy), the son of a dying business magnate. The team faces numerous challenges as they navigate through multiple levels of dreams within dreams, all while trying to stay one step ahead of their enemies.\\n\\nInception received widespread critical acclaim for its original storyline, clever plot twists, and impressive visual effects. The film was a commercial success, grossing over $825 million worldwide. It also received eight Academy Award nominations, including Best Picture, Best Director, and Best Original Screenplay, and won four Oscars for Best Cinematography, Best Sound Editing, Best Sound Mixing, and Best Visual Effects.\\n\\nThe movie\\'s themes of reality, identity, and the power of the human mind have sparked intense debates and discussions among fans and critics alike. The film\\'s ending, in particular, has been the subject of much speculation, with many interpreting the final scene as either a dream or reality.\\n\\nOverall, Inception is a thought-provoking, visually stunning, and action-packed movie that will keep you on the edge of your seat from start to finish.')], 'output': \"Leonardo DiCaprio has starred in many movies throughout his career. Here are some of his most notable roles:\\n\\n1. Titanic (1997) - DiCaprio played the role of Jack Dawson, a penniless artist who falls in love with Kate Winslet's character, Rose DeWitt Bukater.\\n2. The Revenant (2015) - DiCaprio won the Academy Award for Best Actor for his portrayal of Hugh Glass, a fur trapper who seeks revenge against those who left him for dead after a bear attack.\\n3. The Wolf of Wall Street (2013) - DiCaprio played the role of Jordan Belfort, a stockbroker who engages in fraudulent activities and corruption in the 1990s.\\n4. Django Unchained (2012) - DiCaprio played the role of Calvin Candie, a ruthless plantation owner who owns Django's wife, Broomhilda.\\n5. The Great Gatsby (2013) - DiCaprio played the role of Jay Gatsby, a wealthy businessman who tries to win back his lost love, Daisy Buchanan.\\n6. Catch Me If You Can (2002) - DiCaprio played the role of Frank Abagnale Jr., a con man who impersonates a pilot, a doctor, and a lawyer, among others.\\n7. The Departed (2006) - DiCaprio played the role of Billy Costigan, an undercover cop who infiltrates a crime syndicate.\\n8. Blood Diamond (2006) - DiCaprio played the role of Danny Archer, a diamond smuggler who teams up with a fisherman to find a rare pink diamond.\\n9. The Aviator (2004) - DiCaprio played the role of Howard Hughes, a billionaire businessman and aviation pioneer who struggles with obsessive-compulsive disorder.\\n10. Romeo + Juliet (1996) - DiCaprio played the role of Romeo Montague, a young man who falls in love with Juliet Capulet in this modern adaptation of Shakespeare's classic play.\\n\\nThese are just a few examples of the many movies that Leonardo DiCaprio has starred in. He has a diverse filmography and has played a wide range of roles throughout his career.\", 'intermediate_steps': [(ToolAgentAction(tool='Search_Movie', tool_input={'data': {'query': 'Leonardo DiCaprio'}}, log=\"\\nInvoking: `Search_Movie` with `{'data': {'query': 'Leonardo DiCaprio'}}`\\n\\n\\n\", message_log=[AIMessageChunk(content='', additional_kwargs={'tool_calls': [{'id': 'call_b555', 'function': {'arguments': '{\"data\":{\"query\":\"Leonardo DiCaprio\"}}', 'name': 'Search_Movie'}, 'type': 'function'}]}, response_metadata={'finish_reason': 'tool_calls', 'logprobs': None}, id='run-0725083c-e675-4a13-a4fd-7f6cb907ab9e', tool_calls=[{'name': 'Search_Movie', 'args': {'data': {'query': 'Leonardo DiCaprio'}}, 'id': 'call_b555'}], usage_metadata={'input_tokens': 2259, 'output_tokens': 41, 'total_tokens': 2300}, tool_call_chunks=[{'name': 'Search_Movie', 'args': '{\"data\":{\"query\":\"Leonardo DiCaprio\"}}', 'id': 'call_b555', 'index': None}])], tool_call_id='call_b555'), [{'title': 'Query', 'year': '2020', 'imdb_id': 'tt11086128', 'type': 'movie', 'poster': 'https://m.media-amazon.com/images/M/MV5BODMzMWJlMzAtNGNlZi00NzdiLTgxNTctYTdkYTA4NjcwNTBkXkEyXkFqcGdeQXVyMjQwOTYxODQ@._V1_SX300.jpg'}, {'title': 'Query', 'year': '1945', 'imdb_id': 'tt0039642', 'type': 'movie', 'poster': 'https://m.media-amazon.com/images/M/MV5BOTQwNzYxNGMtZDkxOC00Yjk4LWE2OTUtNmIxNjdkYTRiNGM0XkEyXkFqcGdeQXVyMTY5Nzc4MDY@._V1_SX300.jpg'}, {'title': 'The Query', 'year': '2008', 'imdb_id': 'tt1202533', 'type': 'movie', 'poster': 'https://m.media-amazon.com/images/M/MV5BMzQyNDYwMjYyNl5BMl5BanBnXkFtZTcwOTc0MzQ2MQ@@._V1_SX300.jpg'}, {'title': 'Query', 'year': '2009', 'imdb_id': 'tt2797090', 'type': 'movie', 'poster': 'N/A'}, {'title': 'Query', 'year': '1947', 'imdb_id': 'tt4363012', 'type': 'movie', 'poster': 'N/A'}, {'title': 'Query of Dreams', 'year': '2014', 'imdb_id': 'tt5152602', 'type': 'movie', 'poster': 'N/A'}, {'title': 'Garip Sorgu/Strange Query', 'year': '2018', 'imdb_id': 'tt10529774', 'type': 'movie', 'poster': 'https://m.media-amazon.com/images/M/MV5BMTlhMzY1NDktOWYyNC00YzFiLWI4YmMtNjA2MTc4NjQ5NzdlXkEyXkFqcGdeQXVyMTAyODEwMTk0._V1_SX300.jpg'}]), (ToolAgentAction(tool='Search_Movie', tool_input={'data': {'query': 'Leonardo DiCaprio'}}, log=\"\\nInvoking: `Search_Movie` with `{'data': {'query': 'Leonardo DiCaprio'}}`\\n\\n\\n\", message_log=[AIMessageChunk(content='', additional_kwargs={'tool_calls': [{'id': 'call_91xb', 'function': {'arguments': '{\"data\":{\"query\":\"Leonardo DiCaprio\"}}', 'name': 'Search_Movie'}, 'type': 'function'}]}, response_metadata={'finish_reason': 'tool_calls', 'logprobs': None}, id='run-215c46d3-61b6-4370-b520-25b932c8eb28', tool_calls=[{'name': 'Search_Movie', 'args': {'data': {'query': 'Leonardo DiCaprio'}}, 'id': 'call_91xb'}], usage_metadata={'input_tokens': 2876, 'output_tokens': 41, 'total_tokens': 2917}, tool_call_chunks=[{'name': 'Search_Movie', 'args': '{\"data\":{\"query\":\"Leonardo DiCaprio\"}}', 'id': 'call_91xb', 'index': None}])], tool_call_id='call_91xb'), [{'title': 'Query', 'year': '2020', 'imdb_id': 'tt11086128', 'type': 'movie', 'poster': 'https://m.media-amazon.com/images/M/MV5BODMzMWJlMzAtNGNlZi00NzdiLTgxNTctYTdkYTA4NjcwNTBkXkEyXkFqcGdeQXVyMjQwOTYxODQ@._V1_SX300.jpg'}, {'title': 'Query', 'year': '1945', 'imdb_id': 'tt0039642', 'type': 'movie', 'poster': 'https://m.media-amazon.com/images/M/MV5BOTQwNzYxNGMtZDkxOC00Yjk4LWE2OTUtNmIxNjdkYTRiNGM0XkEyXkFqcGdeQXVyMTY5Nzc4MDY@._V1_SX300.jpg'}, {'title': 'The Query', 'year': '2008', 'imdb_id': 'tt1202533', 'type': 'movie', 'poster': 'https://m.media-amazon.com/images/M/MV5BMzQyNDYwMjYyNl5BMl5BanBnXkFtZTcwOTc0MzQ2MQ@@._V1_SX300.jpg'}, {'title': 'Query', 'year': '2009', 'imdb_id': 'tt2797090', 'type': 'movie', 'poster': 'N/A'}, {'title': 'Query', 'year': '1947', 'imdb_id': 'tt4363012', 'type': 'movie', 'poster': 'N/A'}, {'title': 'Query of Dreams', 'year': '2014', 'imdb_id': 'tt5152602', 'type': 'movie', 'poster': 'N/A'}, {'title': 'Garip Sorgu/Strange Query', 'year': '2018', 'imdb_id': 'tt10529774', 'type': 'movie', 'poster': 'https://m.media-amazon.com/images/M/MV5BMTlhMzY1NDktOWYyNC00YzFiLWI4YmMtNjA2MTc4NjQ5NzdlXkEyXkFqcGdeQXVyMTAyODEwMTk0._V1_SX300.jpg'}]), (ToolAgentAction(tool='Search_Movie', tool_input={'data': {'query': 'Leonardo DiCaprio'}}, log=\"\\nInvoking: `Search_Movie` with `{'data': {'query': 'Leonardo DiCaprio'}}`\\n\\n\\n\", message_log=[AIMessageChunk(content='', additional_kwargs={'tool_calls': [{'id': 'call_0z64', 'function': {'arguments': '{\"data\":{\"query\":\"Leonardo DiCaprio\"}}', 'name': 'Search_Movie'}, 'type': 'function'}]}, response_metadata={'finish_reason': 'tool_calls', 'logprobs': None}, id='run-19feabdd-04cb-42bd-9a15-2d81e02c7dfa', tool_calls=[{'name': 'Search_Movie', 'args': {'data': {'query': 'Leonardo DiCaprio'}}, 'id': 'call_0z64'}], usage_metadata={'input_tokens': 3485, 'output_tokens': 41, 'total_tokens': 3526}, tool_call_chunks=[{'name': 'Search_Movie', 'args': '{\"data\":{\"query\":\"Leonardo DiCaprio\"}}', 'id': 'call_0z64', 'index': None}])], tool_call_id='call_0z64'), [{'title': 'Query', 'year': '2020', 'imdb_id': 'tt11086128', 'type': 'movie', 'poster': 'https://m.media-amazon.com/images/M/MV5BODMzMWJlMzAtNGNlZi00NzdiLTgxNTctYTdkYTA4NjcwNTBkXkEyXkFqcGdeQXVyMjQwOTYxODQ@._V1_SX300.jpg'}, {'title': 'Query', 'year': '1945', 'imdb_id': 'tt0039642', 'type': 'movie', 'poster': 'https://m.media-amazon.com/images/M/MV5BOTQwNzYxNGMtZDkxOC00Yjk4LWE2OTUtNmIxNjdkYTRiNGM0XkEyXkFqcGdeQXVyMTY5Nzc4MDY@._V1_SX300.jpg'}, {'title': 'The Query', 'year': '2008', 'imdb_id': 'tt1202533', 'type': 'movie', 'poster': 'https://m.media-amazon.com/images/M/MV5BMzQyNDYwMjYyNl5BMl5BanBnXkFtZTcwOTc0MzQ2MQ@@._V1_SX300.jpg'}, {'title': 'Query', 'year': '2009', 'imdb_id': 'tt2797090', 'type': 'movie', 'poster': 'N/A'}, {'title': 'Query', 'year': '1947', 'imdb_id': 'tt4363012', 'type': 'movie', 'poster': 'N/A'}, {'title': 'Query of Dreams', 'year': '2014', 'imdb_id': 'tt5152602', 'type': 'movie', 'poster': 'N/A'}, {'title': 'Garip Sorgu/Strange Query', 'year': '2018', 'imdb_id': 'tt10529774', 'type': 'movie', 'poster': 'https://m.media-amazon.com/images/M/MV5BMTlhMzY1NDktOWYyNC00YzFiLWI4YmMtNjA2MTc4NjQ5NzdlXkEyXkFqcGdeQXVyMTAyODEwMTk0._V1_SX300.jpg'}]), (ToolAgentAction(tool='Search_Movie', tool_input={'data': {'query': 'Leonardo DiCaprio'}}, log=\"\\nInvoking: `Search_Movie` with `{'data': {'query': 'Leonardo DiCaprio'}}`\\n\\n\\n\", message_log=[AIMessageChunk(content='', additional_kwargs={'tool_calls': [{'id': 'call_9jjj', 'function': {'arguments': '{\"data\":{\"query\":\"Leonardo DiCaprio\"}}', 'name': 'Search_Movie'}, 'type': 'function'}]}, response_metadata={'finish_reason': 'tool_calls', 'logprobs': None}, id='run-8da95065-61b8-47fd-ac05-ae10c7e33ca9', tool_calls=[{'name': 'Search_Movie', 'args': {'data': {'query': 'Leonardo DiCaprio'}}, 'id': 'call_9jjj'}], usage_metadata={'input_tokens': 4096, 'output_tokens': 41, 'total_tokens': 4137}, tool_call_chunks=[{'name': 'Search_Movie', 'args': '{\"data\":{\"query\":\"Leonardo DiCaprio\"}}', 'id': 'call_9jjj', 'index': None}])], tool_call_id='call_9jjj'), [{'title': 'Query', 'year': '2020', 'imdb_id': 'tt11086128', 'type': 'movie', 'poster': 'https://m.media-amazon.com/images/M/MV5BODMzMWJlMzAtNGNlZi00NzdiLTgxNTctYTdkYTA4NjcwNTBkXkEyXkFqcGdeQXVyMjQwOTYxODQ@._V1_SX300.jpg'}, {'title': 'Query', 'year': '1945', 'imdb_id': 'tt0039642', 'type': 'movie', 'poster': 'https://m.media-amazon.com/images/M/MV5BOTQwNzYxNGMtZDkxOC00Yjk4LWE2OTUtNmIxNjdkYTRiNGM0XkEyXkFqcGdeQXVyMTY5Nzc4MDY@._V1_SX300.jpg'}, {'title': 'The Query', 'year': '2008', 'imdb_id': 'tt1202533', 'type': 'movie', 'poster': 'https://m.media-amazon.com/images/M/MV5BMzQyNDYwMjYyNl5BMl5BanBnXkFtZTcwOTc0MzQ2MQ@@._V1_SX300.jpg'}, {'title': 'Query', 'year': '2009', 'imdb_id': 'tt2797090', 'type': 'movie', 'poster': 'N/A'}, {'title': 'Query', 'year': '1947', 'imdb_id': 'tt4363012', 'type': 'movie', 'poster': 'N/A'}, {'title': 'Query of Dreams', 'year': '2014', 'imdb_id': 'tt5152602', 'type': 'movie', 'poster': 'N/A'}, {'title': 'Garip Sorgu/Strange Query', 'year': '2018', 'imdb_id': 'tt10529774', 'type': 'movie', 'poster': 'https://m.media-amazon.com/images/M/MV5BMTlhMzY1NDktOWYyNC00YzFiLWI4YmMtNjA2MTc4NjQ5NzdlXkEyXkFqcGdeQXVyMTAyODEwMTk0._V1_SX300.jpg'}]), (ToolAgentAction(tool='Search_Movie', tool_input={'data': {'query': 'Leonardo DiCaprio'}}, log=\"\\nInvoking: `Search_Movie` with `{'data': {'query': 'Leonardo DiCaprio'}}`\\n\\n\\n\", message_log=[AIMessageChunk(content='', additional_kwargs={'tool_calls': [{'id': 'call_3ans', 'function': {'arguments': '{\"data\":{\"query\":\"Leonardo DiCaprio\"}}', 'name': 'Search_Movie'}, 'type': 'function'}]}, response_metadata={'finish_reason': 'tool_calls', 'logprobs': None}, id='run-bad3e3a3-9847-4ddd-b603-6de5e3d5c734', tool_calls=[{'name': 'Search_Movie', 'args': {'data': {'query': 'Leonardo DiCaprio'}}, 'id': 'call_3ans'}], usage_metadata={'input_tokens': 4707, 'output_tokens': 45, 'total_tokens': 4752}, tool_call_chunks=[{'name': 'Search_Movie', 'args': '{\"data\":{\"query\":\"Leonardo DiCaprio\"}}', 'id': 'call_3ans', 'index': None}])], tool_call_id='call_3ans'), [{'title': 'Query', 'year': '2020', 'imdb_id': 'tt11086128', 'type': 'movie', 'poster': 'https://m.media-amazon.com/images/M/MV5BODMzMWJlMzAtNGNlZi00NzdiLTgxNTctYTdkYTA4NjcwNTBkXkEyXkFqcGdeQXVyMjQwOTYxODQ@._V1_SX300.jpg'}, {'title': 'Query', 'year': '1945', 'imdb_id': 'tt0039642', 'type': 'movie', 'poster': 'https://m.media-amazon.com/images/M/MV5BOTQwNzYxNGMtZDkxOC00Yjk4LWE2OTUtNmIxNjdkYTRiNGM0XkEyXkFqcGdeQXVyMTY5Nzc4MDY@._V1_SX300.jpg'}, {'title': 'The Query', 'year': '2008', 'imdb_id': 'tt1202533', 'type': 'movie', 'poster': 'https://m.media-amazon.com/images/M/MV5BMzQyNDYwMjYyNl5BMl5BanBnXkFtZTcwOTc0MzQ2MQ@@._V1_SX300.jpg'}, {'title': 'Query', 'year': '2009', 'imdb_id': 'tt2797090', 'type': 'movie', 'poster': 'N/A'}, {'title': 'Query', 'year': '1947', 'imdb_id': 'tt4363012', 'type': 'movie', 'poster': 'N/A'}, {'title': 'Query of Dreams', 'year': '2014', 'imdb_id': 'tt5152602', 'type': 'movie', 'poster': 'N/A'}, {'title': 'Garip Sorgu/Strange Query', 'year': '2018', 'imdb_id': 'tt10529774', 'type': 'movie', 'poster': 'https://m.media-amazon.com/images/M/MV5BMTlhMzY1NDktOWYyNC00YzFiLWI4YmMtNjA2MTc4NjQ5NzdlXkEyXkFqcGdeQXVyMTAyODEwMTk0._V1_SX300.jpg'}])]}\n"
     ]
    }
   ],
   "source": [
    "print(movie_agent.run(\"Which all movies has Leonard DiCaprio starred in?\"))"
   ]
  },
  {
   "cell_type": "code",
   "execution_count": 16,
   "metadata": {},
   "outputs": [
    {
     "name": "stdout",
     "output_type": "stream",
     "text": [
      "\n",
      "\n",
      "\u001b[1m> Entering new AgentExecutor chain...\u001b[0m\n",
      "\u001b[32;1m\u001b[1;3mA Naruto fan, eh?\n",
      "\n",
      "There are a total of 7 Naruto Shippuden movies, and I'd be happy to give you a brief summary of each:\n",
      "\n",
      "**1. Naruto Shippuden the Movie (2007)**\n",
      "The first Naruto Shippuden movie, also known as \"Naruto Shippuden the Movie: The Movie\", is set after the time skip in the anime series. Naruto and his friends must stop a powerful demon from destroying the world.\n",
      "\n",
      "**2. Bonds (2008)**\n",
      "The second movie, \"Naruto Shippuden the Movie: Bonds\", takes place during the Five Kage Summit arc. Naruto and Sakura team up with a group of ninjas to stop a group of rogue ninjas from destroying a village.\n",
      "\n",
      "**3. The Will of Fire (2009)**\n",
      "In \"Naruto Shippuden the Movie: The Will of Fire\", a group of ninjas from different villages must work together to stop a powerful enemy who seeks to destroy the Will of Fire, a powerful flame that symbolizes the ninja spirit.\n",
      "\n",
      "**4. The Lost Tower (2010)**\n",
      "The fourth movie, \"Naruto Shippuden the Movie: The Lost Tower\", is set during the Five Kage Summit arc. Naruto and his friends are sent on a mission to retrieve a powerful artifact from a mysterious tower.\n",
      "\n",
      "**5. Blood Prison (2011)**\n",
      "In \"Naruto Shippuden the Movie: Blood Prison\", Naruto is wrongly accused of a crime and sent to a prison island, where he must survive and uncover the truth behind the prison's dark secrets.\n",
      "\n",
      "**6. Road to Ninja (2012)**\n",
      "The sixth movie, \"Naruto Shippuden the Movie: Road to Ninja\", takes place during the Fourth Great Ninja War arc. Naruto and Sakura are sent to an alternate dimension, where they must team up with their alternate selves to stop a powerful enemy.\n",
      "\n",
      "**7. The Last (2014)**\n",
      "The seventh and final Naruto Shippuden movie, \"The Last: Naruto the Movie\", takes place after the Fourth Great Ninja War. Naruto and Hinata must stop a powerful enemy from destroying the world, while also dealing with their own feelings for each other.\n",
      "\n",
      "All of these movies are canon and offer exciting adventures and character development that complement the anime series.\u001b[0m\n",
      "\n",
      "\u001b[1m> Finished chain.\u001b[0m\n",
      "{'input': 'Tell me about all Naruto Shippuden movies', 'chat_history': [HumanMessage(content='Tell me about the movie inception'), AIMessage(content='I\\'ve got the scoop on Inception right here!\\n\\nInception is a 2010 science fiction action film written, co-produced, and directed by Christopher Nolan. The movie stars Leonardo DiCaprio, Joseph Gordon-Levitt, Elliot Page, Tom Hardy, Ken Watanabe, and Marion Cotillard.\\n\\nThe film\\'s plot revolves around Cobb (Leonardo DiCaprio), a skilled thief who specializes in entering people\\'s dreams and stealing their secrets. Cobb is offered a chance to redeem himself by performing an impossible task: planting an idea in someone\\'s mind instead of stealing one. This process is known as \"inception.\"\\n\\nCobb and his team, including Arthur (Joseph Gordon-Levitt), Ariadne (Elliot Page), Eames (Tom Hardy), and Saito (Ken Watanabe), embark on a mission to plant an idea in the mind of Robert Fischer (Cillian Murphy), the son of a dying business magnate. The team faces numerous challenges as they navigate through multiple levels of dreams within dreams, all while trying to stay one step ahead of their enemies.\\n\\nInception received widespread critical acclaim for its original storyline, clever plot twists, and impressive visual effects. The film was a commercial success, grossing over $825 million worldwide. It also received eight Academy Award nominations, including Best Picture, Best Director, and Best Original Screenplay, and won four Oscars for Best Cinematography, Best Sound Editing, Best Sound Mixing, and Best Visual Effects.\\n\\nThe movie\\'s themes of reality, identity, and the power of the human mind have sparked intense debates and discussions among fans and critics alike. The film\\'s ending, in particular, has been the subject of much speculation, with many interpreting the final scene as either a dream or reality.\\n\\nOverall, Inception is a thought-provoking, visually stunning, and action-packed movie that will keep you on the edge of your seat from start to finish.'), HumanMessage(content='Which all movies has Leonard DiCaprio starred in?'), AIMessage(content=\"Leonardo DiCaprio has starred in many movies throughout his career. Here are some of his most notable roles:\\n\\n1. Titanic (1997) - DiCaprio played the role of Jack Dawson, a penniless artist who falls in love with Kate Winslet's character, Rose DeWitt Bukater.\\n2. The Revenant (2015) - DiCaprio won the Academy Award for Best Actor for his portrayal of Hugh Glass, a fur trapper who seeks revenge against those who left him for dead after a bear attack.\\n3. The Wolf of Wall Street (2013) - DiCaprio played the role of Jordan Belfort, a stockbroker who engages in fraudulent activities and corruption in the 1990s.\\n4. Django Unchained (2012) - DiCaprio played the role of Calvin Candie, a ruthless plantation owner who owns Django's wife, Broomhilda.\\n5. The Great Gatsby (2013) - DiCaprio played the role of Jay Gatsby, a wealthy businessman who tries to win back his lost love, Daisy Buchanan.\\n6. Catch Me If You Can (2002) - DiCaprio played the role of Frank Abagnale Jr., a con man who impersonates a pilot, a doctor, and a lawyer, among others.\\n7. The Departed (2006) - DiCaprio played the role of Billy Costigan, an undercover cop who infiltrates a crime syndicate.\\n8. Blood Diamond (2006) - DiCaprio played the role of Danny Archer, a diamond smuggler who teams up with a fisherman to find a rare pink diamond.\\n9. The Aviator (2004) - DiCaprio played the role of Howard Hughes, a billionaire businessman and aviation pioneer who struggles with obsessive-compulsive disorder.\\n10. Romeo + Juliet (1996) - DiCaprio played the role of Romeo Montague, a young man who falls in love with Juliet Capulet in this modern adaptation of Shakespeare's classic play.\\n\\nThese are just a few examples of the many movies that Leonardo DiCaprio has starred in. He has a diverse filmography and has played a wide range of roles throughout his career.\")], 'output': 'A Naruto fan, eh?\\n\\nThere are a total of 7 Naruto Shippuden movies, and I\\'d be happy to give you a brief summary of each:\\n\\n**1. Naruto Shippuden the Movie (2007)**\\nThe first Naruto Shippuden movie, also known as \"Naruto Shippuden the Movie: The Movie\", is set after the time skip in the anime series. Naruto and his friends must stop a powerful demon from destroying the world.\\n\\n**2. Bonds (2008)**\\nThe second movie, \"Naruto Shippuden the Movie: Bonds\", takes place during the Five Kage Summit arc. Naruto and Sakura team up with a group of ninjas to stop a group of rogue ninjas from destroying a village.\\n\\n**3. The Will of Fire (2009)**\\nIn \"Naruto Shippuden the Movie: The Will of Fire\", a group of ninjas from different villages must work together to stop a powerful enemy who seeks to destroy the Will of Fire, a powerful flame that symbolizes the ninja spirit.\\n\\n**4. The Lost Tower (2010)**\\nThe fourth movie, \"Naruto Shippuden the Movie: The Lost Tower\", is set during the Five Kage Summit arc. Naruto and his friends are sent on a mission to retrieve a powerful artifact from a mysterious tower.\\n\\n**5. Blood Prison (2011)**\\nIn \"Naruto Shippuden the Movie: Blood Prison\", Naruto is wrongly accused of a crime and sent to a prison island, where he must survive and uncover the truth behind the prison\\'s dark secrets.\\n\\n**6. Road to Ninja (2012)**\\nThe sixth movie, \"Naruto Shippuden the Movie: Road to Ninja\", takes place during the Fourth Great Ninja War arc. Naruto and Sakura are sent to an alternate dimension, where they must team up with their alternate selves to stop a powerful enemy.\\n\\n**7. The Last (2014)**\\nThe seventh and final Naruto Shippuden movie, \"The Last: Naruto the Movie\", takes place after the Fourth Great Ninja War. Naruto and Hinata must stop a powerful enemy from destroying the world, while also dealing with their own feelings for each other.\\n\\nAll of these movies are canon and offer exciting adventures and character development that complement the anime series.', 'intermediate_steps': []}\n"
     ]
    }
   ],
   "source": [
    "print(movie_agent.run(\"Tell me about all Naruto Shippuden movies\"))"
   ]
  },
  {
   "cell_type": "code",
   "execution_count": null,
   "metadata": {},
   "outputs": [],
   "source": []
  }
 ],
 "metadata": {
  "kernelspec": {
   "display_name": "test",
   "language": "python",
   "name": "python3"
  },
  "language_info": {
   "codemirror_mode": {
    "name": "ipython",
    "version": 3
   },
   "file_extension": ".py",
   "mimetype": "text/x-python",
   "name": "python",
   "nbconvert_exporter": "python",
   "pygments_lexer": "ipython3",
   "version": "3.12.4"
  }
 },
 "nbformat": 4,
 "nbformat_minor": 2
}
