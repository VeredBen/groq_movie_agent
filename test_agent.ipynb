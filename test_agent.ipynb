{
 "cells": [
  {
   "cell_type": "code",
   "execution_count": 15,
   "metadata": {},
   "outputs": [
    {
     "data": {
      "text/plain": [
       "True"
      ]
     },
     "execution_count": 15,
     "metadata": {},
     "output_type": "execute_result"
    }
   ],
   "source": [
    "import os\n",
    "from omdb_tools import *\n",
    "from dotenv import load_dotenv\n",
    "import pprint\n",
    "##to load credentials\n",
    "load_dotenv()"
   ]
  },
  {
   "cell_type": "markdown",
   "metadata": {},
   "source": [
    "### Set all the keys"
   ]
  },
  {
   "cell_type": "code",
   "execution_count": 16,
   "metadata": {},
   "outputs": [],
   "source": [
    "os.environ[\"GROQ_API_KEY\"] = os.getenv(\"GROQ_API_KEY\")\n",
    "os.environ[\"LANGCHAIN_API_KEY\"] = os.getenv(\"LANGCHAIN_API_KEY\") ## Put your Langsmith API key here\n",
    "os.environ[\"LANGCHAIN_HUB_API_KEY\"] = os.getenv(\"LANGCHAIN_API_KEY\") ## Put your Langsmith API key here\n",
    "os.environ[\"LANGCHAIN_TRACING_V2\"] = 'true' ## Set this as True\n",
    "os.environ[\"LANGCHAIN_ENDPOINT\"] = 'https://api.smith.langchain.com/' ## Set this as: https://api.smith.langchain.com/\n",
    "os.environ[\"LANGCHAIN_HUB_API_URL\"] = 'https://api.hub.langchain.com' ## Set this as : https://api.hub.langchain.com\n",
    "os.environ[\"LANGCHAIN_PROJECT\"] = 'llm-agents'"
   ]
  },
  {
   "cell_type": "markdown",
   "metadata": {},
   "source": [
    "### Define your tools"
   ]
  },
  {
   "cell_type": "code",
   "execution_count": 17,
   "metadata": {},
   "outputs": [],
   "source": [
    "### Define your tools\n",
    "movie_info_tool = OmdbAPI.get_movie_info_by_title\n",
    "search_movie_tool = OmdbAPI.search_movie\n",
    "search_series_tool = OmdbAPI.search_series\n",
    "\n",
    "from langchain_community.tools import WikipediaQueryRun\n",
    "from langchain_community.utilities import WikipediaAPIWrapper\n",
    "\n",
    "wikipedia = WikipediaQueryRun(api_wrapper=WikipediaAPIWrapper())\n",
    "\n",
    "tools = [movie_info_tool, search_movie_tool, search_series_tool, wikipedia]"
   ]
  },
  {
   "cell_type": "markdown",
   "metadata": {},
   "source": [
    "### Test the tools"
   ]
  },
  {
   "cell_type": "code",
   "execution_count": 18,
   "metadata": {},
   "outputs": [
    {
     "name": "stdout",
     "output_type": "stream",
     "text": [
      "Movie_Info_By_Title_Year Call this tool to get information about a movie if you have its title. Optionally you can also specify a movie's year.\n",
      "       The input to this tool is a movie title. Year can also be optionally specified. If year is specified it must be separated by pipe\n",
      "       Example if the user is look True Grit then input should be `True%20Grit`. Represent space as %20\n",
      "       Example if the user is look True Grit movie from 1969 then input should be `True%20Grit|1969`. Represent space as %20. Separate year by |\n",
      "       The output from this tool will be information on title, plot, director and tomato meter rating of the movie that best matches\n",
      "{'actors': 'Daniel Radcliffe, Rupert Grint, Emma Watson',\n",
      " 'awards': 'Nominated for 3 Oscars. 20 wins & 74 nominations total',\n",
      " 'box_office': '$318,886,962',\n",
      " 'country': 'United Kingdom, United States',\n",
      " 'director': 'Chris Columbus',\n",
      " 'dvd': 'N/A',\n",
      " 'genre': 'Adventure, Family, Fantasy',\n",
      " 'imdb_id': 'tt0241527',\n",
      " 'imdb_rating': '7.6',\n",
      " 'imdb_votes': '860,139',\n",
      " 'language': 'English, Latin',\n",
      " 'metascore': '65',\n",
      " 'plot': 'This is the tale of Harry Potter (Daniel Radcliffe), an ordinary '\n",
      "         'eleven-year-old boy serving as a sort of slave for his aunt and '\n",
      "         'uncle who learns that he is actually a wizard and has been invited '\n",
      "         'to attend the Hogwarts School for Witchcraft and Wizardry. Harry is '\n",
      "         'snatched away from his mundane existence by Rubeus Hagrid (Robbie '\n",
      "         'Coltrane), the groundskeeper for Hogwarts, and quickly thrown into a '\n",
      "         'world completely foreign to both him and the viewer. Famous for an '\n",
      "         'incident that happened at his birth, Harry makes friends easily at '\n",
      "         'his new school. He soon finds, however, that the wizarding world is '\n",
      "         'far more dangerous for him than he would have imagined, and he '\n",
      "         'quickly learns that not all wizards are ones to be trusted.',\n",
      " 'poster': 'https://m.media-amazon.com/images/M/MV5BNmQ0ODBhMjUtNDRhOC00MGQzLTk5MTAtZDliODg5NmU5MjZhXkEyXkFqcGdeQXVyNDUyOTg3Njg@._V1_SX300.jpg',\n",
      " 'production': 'N/A',\n",
      " 'rated': 'PG',\n",
      " 'ratings': [{'source': 'Internet Movie Database', 'value': '7.6/10'},\n",
      "             {'source': 'Rotten Tomatoes', 'value': '81%'},\n",
      "             {'source': 'Metacritic', 'value': '65/100'}],\n",
      " 'released': '16 Nov 2001',\n",
      " 'response': 'True',\n",
      " 'runtime': '152 min',\n",
      " 'title': \"Harry Potter and the Sorcerer's Stone\",\n",
      " 'tomato_consensus': 'N/A',\n",
      " 'tomato_fresh': 'N/A',\n",
      " 'tomato_image': 'N/A',\n",
      " 'tomato_meter': 'N/A',\n",
      " 'tomato_rating': 'N/A',\n",
      " 'tomato_reviews': 'N/A',\n",
      " 'tomato_rotten': 'N/A',\n",
      " 'tomato_url': 'https://www.rottentomatoes.com/m/harry_potter_and_the_sorcerers_stone/',\n",
      " 'tomato_user_meter': 'N/A',\n",
      " 'tomato_user_rating': 'N/A',\n",
      " 'tomato_user_reviews': 'N/A',\n",
      " 'type': 'movie',\n",
      " 'website': 'N/A',\n",
      " 'writer': 'J.K. Rowling, Steve Kloves',\n",
      " 'year': '2001'}\n"
     ]
    }
   ],
   "source": [
    "movie_title_tool = OmdbAPI.get_movie_info_by_title\n",
    "print(movie_title_tool.name, movie_title_tool.description)\n",
    "\n",
    "\t\n",
    "data = 'Harry%Potter|2001'\n",
    "tool_output = movie_title_tool.run(data)\n",
    "pprint.pprint(tool_output)"
   ]
  },
  {
   "cell_type": "code",
   "execution_count": 19,
   "metadata": {},
   "outputs": [
    {
     "name": "stdout",
     "output_type": "stream",
     "text": [
      "Search_Movie Call this tool to search for a movie based on search string. The input to the tool is a search string.\n",
      "       The output from the tool is all the results that match the search criteria\n",
      "       Example if the user is look for a movie Naruto, then data=Naruto\n",
      "[{'imdb_id': 'tt3717532',\n",
      "  'poster': 'https://m.media-amazon.com/images/M/MV5BMjk1NzA4Njg4Ml5BMl5BanBnXkFtZTgwMDgxODQ5MzE@._V1_SX300.jpg',\n",
      "  'title': 'The Last: Naruto the Movie',\n",
      "  'type': 'movie',\n",
      "  'year': '2014'},\n",
      " {'imdb_id': 'tt4618398',\n",
      "  'poster': 'https://m.media-amazon.com/images/M/MV5BNDIwYjg5YzItZTJmMC00YjJhLWFiNjYtMDU5MmQxOTQxODM2XkEyXkFqcGdeQXVyMjc2Nzg5OTQ@._V1_SX300.jpg',\n",
      "  'title': 'Boruto: Naruto the Movie',\n",
      "  'type': 'movie',\n",
      "  'year': '2015'},\n",
      " {'imdb_id': 'tt2290828',\n",
      "  'poster': 'https://m.media-amazon.com/images/M/MV5BMTQ5MTcyNDYwMV5BMl5BanBnXkFtZTgwNzMzNzc0MjE@._V1_SX300.jpg',\n",
      "  'title': 'Road to Ninja - Naruto the Movie',\n",
      "  'type': 'movie',\n",
      "  'year': '2012'},\n",
      " {'imdb_id': 'tt0476680',\n",
      "  'poster': 'https://m.media-amazon.com/images/M/MV5BYWFkMTJjODEtMjY2NC00OGRiLThkYjMtMzBjMzVhY2FlZTEyXkEyXkFqcGdeQXVyNjYwMjkwMjg@._V1_SX300.jpg',\n",
      "  'title': 'Naruto the Movie: Ninja Clash in the Land of Snow',\n",
      "  'type': 'movie',\n",
      "  'year': '2004'},\n",
      " {'imdb_id': 'tt1999167',\n",
      "  'poster': 'https://m.media-amazon.com/images/M/MV5BMDgyZmRkYjUtMWExNS00NDQyLTliZTMtOTkwY2M3ZWU0ZjNmXkEyXkFqcGdeQXVyMjc2Nzg5OTQ@._V1_SX300.jpg',\n",
      "  'title': 'Naruto Shippuden the Movie: Blood Prison',\n",
      "  'type': 'movie',\n",
      "  'year': '2011'},\n",
      " {'imdb_id': 'tt1160524',\n",
      "  'poster': 'https://m.media-amazon.com/images/M/MV5BNTE2ODAyNTkxNl5BMl5BanBnXkFtZTgwNTAzMjA2MDE@._V1_SX300.jpg',\n",
      "  'title': 'Naruto Shippuden: The Movie - Bonds',\n",
      "  'type': 'movie',\n",
      "  'year': '2008'},\n",
      " {'imdb_id': 'tt0791188',\n",
      "  'poster': 'https://m.media-amazon.com/images/M/MV5BMDE3NjY3Y2MtODE4YS00YzFiLThhMTMtY2Q1NTZkODE4M2NlXkEyXkFqcGdeQXVyNjYwMjkwMjg@._V1_SX300.jpg',\n",
      "  'title': 'Naruto the Movie 2: Legend of the Stone of Gelel',\n",
      "  'type': 'movie',\n",
      "  'year': '2005'},\n",
      " {'imdb_id': 'tt0988982',\n",
      "  'poster': 'https://m.media-amazon.com/images/M/MV5BNWM0NTU4ZjQtNzRmYi00MzM0LTgxZDMtNjFlYWUxMTRhNDUxXkEyXkFqcGdeQXVyMjc4OTQ1OTA@._V1_SX300.jpg',\n",
      "  'title': 'Naruto Shippûden: The Movie',\n",
      "  'type': 'movie',\n",
      "  'year': '2007'},\n",
      " {'imdb_id': 'tt1071815',\n",
      "  'poster': 'https://m.media-amazon.com/images/M/MV5BNjk2ZWIzOTYtMGUxMC00MzdhLWI3ZGMtZGJhNzZmMDYxYjJlXkEyXkFqcGdeQXVyMjQ3NTQ4MjQ@._V1_SX300.jpg',\n",
      "  'title': 'Naruto the Movie 3: Guardians of the Crescent Moon Kingdom',\n",
      "  'type': 'movie',\n",
      "  'year': '2006'},\n",
      " {'imdb_id': 'tt1481363',\n",
      "  'poster': 'https://m.media-amazon.com/images/M/MV5BOTllNzNlYjEtNGQ2OS00ZWE3LWFhNjctNmQyMzkzYWZjNWI4XkEyXkFqcGdeQXVyMjc2Nzg5OTQ@._V1_SX300.jpg',\n",
      "  'title': 'Naruto Shippûden: The Movie 3: Inheritors of the Will of Fire',\n",
      "  'type': 'movie',\n",
      "  'year': '2009'}]\n"
     ]
    }
   ],
   "source": [
    "search_movie_tool = OmdbAPI.search_movie\n",
    "\n",
    "print(search_movie_tool.name, search_movie_tool.description)\n",
    "\t\n",
    "data = 'Naruto'\n",
    "tool_output = search_movie_tool.run(data)\n",
    "pprint.pprint(tool_output)"
   ]
  },
  {
   "cell_type": "code",
   "execution_count": 20,
   "metadata": {},
   "outputs": [
    {
     "data": {
      "text/plain": [
       "('wikipedia',\n",
       " 'A wrapper around Wikipedia. Useful for when you need to answer general questions about people, places, companies, facts, historical events, or other subjects. Input should be a search query.')"
      ]
     },
     "execution_count": 20,
     "metadata": {},
     "output_type": "execute_result"
    }
   ],
   "source": [
    "wikipedia.name, wikipedia.description"
   ]
  },
  {
   "cell_type": "code",
   "execution_count": 21,
   "metadata": {},
   "outputs": [
    {
     "name": "stdout",
     "output_type": "stream",
     "text": [
      "('Page: Boruto: Naruto the Movie\\n'\n",
      " 'Summary: Boruto: Naruto the Movie is a 2015 Japanese animated  martial arts '\n",
      " 'fantasy film and the directorial debut of Hiroyuki Yamashita. It is based on '\n",
      " \"Masashi Kishimoto's manga and anime Naruto, and is the second film to be a \"\n",
      " 'part of the canonical Naruto storyline, being a sequel to the manga series. '\n",
      " 'It stars Yūko Sanpei, Junko Takeuchi, Kokoro Kikuchi and Noriaki Sugiyama. '\n",
      " 'Set after the finale of Naruto, the film focuses on the title character '\n",
      " \"Boruto Uzumaki, son of  Naruto's protagonist, Naruto Uzumaki, who cannot \"\n",
      " 'stay with his family due to being the leader of his ninja village. Vigilante '\n",
      " 'Sasuke Uchiha returns to the village with warnings about two beings who '\n",
      " 'might become a big threat to the world peace the ninjas managed to bring '\n",
      " 'about in the original series.\\n'\n",
      " 'The film was first teased in the post-credits scene of the previous film, '\n",
      " 'The Last: Naruto the Movie (2014). Kishimoto took a large role in the making '\n",
      " 'of The Last, handling the script and character designs. However, Kishimoto '\n",
      " 'took an even larger role in the making of this film, handling the script, '\n",
      " 'characters designs and screenplay. This brought him difficulties, because of '\n",
      " 'which he required help from other staff members, such as the writer Ukyō '\n",
      " 'Kodachi and director Yamashita. They created new scenes that left a deep '\n",
      " 'impression on Kishimoto.\\n'\n",
      " \"Released in August 2015, the film became the franchise's highest-grossing \"\n",
      " 'film, and its home media versions had good sales to the point of becoming '\n",
      " \"Japan's best-selling releases in 2016. Critical reception of the movie has \"\n",
      " 'been mostly positive, with writers praising the animation, well-animated '\n",
      " \"fight choreography as well as Boruto's growth, but it was criticized for its \"\n",
      " \"unmemorable antagonists along with Boruto's relationship with his father not \"\n",
      " 'being explored deeply. Ukyo Kodachi and artist Mikio Ikemoto adapted the '\n",
      " 'film as the first story arc of Boruto (2016), a manga sequel of Naruto, with '\n",
      " 'both it and its anime adaption (in which it is the seventh story arc) '\n",
      " 'altering some details with added content.\\n'\n",
      " '\\n'\n",
      " 'Page: Boruto\\n'\n",
      " 'Summary: Boruto is a Japanese manga series written by Ukyō Kodachi and '\n",
      " 'Masashi Kishimoto, and illustrated by Mikio Ikemoto. It initially began '\n",
      " 'monthly serialization under the title Boruto: Naruto Next Generations, with '\n",
      " \"Kodachi as writer and Kishimoto as editorial supervisor in Shueisha's shōnen \"\n",
      " 'manga magazine Weekly Shōnen Jump in May 2016, and was transferred to '\n",
      " \"Shueisha's monthly magazine V Jump in July 2019. In November 2020, Kodachi \"\n",
      " 'stepped down, with Kishimoto taking over as writer. In April 2023, the '\n",
      " 'series concluded the first part of the story and, following a brief hiatus, '\n",
      " 'continued in August of the same year with a second part titled Boruto: Two '\n",
      " \"Blue Vortex. Boruto is a spin-off and a sequel to Kishimoto's Naruto and \"\n",
      " \"follows the exploits of Naruto Uzumaki's son, Boruto Uzumaki, and his ninja \"\n",
      " 'team.\\n'\n",
      " \"Boruto originated from Shueisha's proposal to Kishimoto on making a sequel \"\n",
      " 'to Naruto. However, Kishimoto rejected this offer and proposed his former '\n",
      " 'assistant Mikio Ikemoto to draw it; the writer of the film Boruto: Naruto '\n",
      " 'the Movie, Ukyō Kodachi, created the plot. A 293-episode anime television '\n",
      " \"series adaptation, produced by Pierrot with Ukyō Kodachi's story supervision \"\n",
      " '(episodes 1–216), was broadcast on TV Tokyo from April 2017 to March 2023; a '\n",
      " 'second part has been announced to be in development. Unlike the manga, which '\n",
      " 'began as a retelling of the Boruto film, the anime begins as a prequel set '\n",
      " 'before Boruto and his friends become ninjas in a later story arc. A series '\n",
      " 'of light novels have also been written.\\n'\n",
      " 'The anime series has earned praise for its use of both new and returning '\n",
      " 'characters, but the narrative of the manga was noted to be more serious as '\n",
      " 'it focused more on the protagonist. Shueisha has shipped a million copies of '\n",
      " 'the manga series by January 2017.\\n'\n",
      " '\\n'\n",
      " 'Page: Boruto Uzumaki\\n'\n",
      " 'Summary: Boruto Uzumaki (Japanese: うずまき ボルト, Hepburn: Uzumaki Boruto) is a '\n",
      " 'fictional character created')\n"
     ]
    }
   ],
   "source": [
    "tool_output = wikipedia.run(\"Boruto: Naruto the Movie\")\n",
    "pprint.pprint(tool_output)"
   ]
  },
  {
   "cell_type": "markdown",
   "metadata": {},
   "source": [
    "### Define a Groq Llama3 agent\n",
    "\n",
    "Code and idea borrowed from: https://www.youtube.com/watch?v=j2OAeeujQ9M&t=937s"
   ]
  },
  {
   "cell_type": "code",
   "execution_count": 22,
   "metadata": {},
   "outputs": [],
   "source": [
    "from langchain_groq import ChatGroq\n",
    "from langchain_core.prompts import ChatPromptTemplate, MessagesPlaceholder, PromptTemplate\n",
    "from langchain.agents import AgentExecutor, create_openai_tools_agent\n",
    "from langchain_core.runnables.history import RunnableWithMessageHistory\n",
    "from langchain.memory import ChatMessageHistory\n",
    "from langchain_core.messages import SystemMessage"
   ]
  },
  {
   "cell_type": "code",
   "execution_count": 23,
   "metadata": {},
   "outputs": [],
   "source": [
    "# Prompt\n",
    "system_prompt = '''You are a helpful assistant who helps users get information\n",
    "about movies and TV series. You can use a few different tools you have access to:\n",
    "\n",
    "1. movie_info_tool - The input to this tool is movie title and optionally year. The\n",
    "tool returns a brief plot, tomato meter rating and other information for the movie that matches the title\n",
    "\n",
    "2. search_movie_tool - Use this tool to search for all movies matching a search string.\n",
    "\n",
    "3. search_series_tool - Use this tool to search for all TV series matching a search string.\n",
    "\n",
    "4. wikipedia - Generic tool to search for anything in the vast wikipedia corpus. Use this to\n",
    "search and return information on any movie/TV series related question\n",
    "\n",
    "You can use these tools in conjunction. For example if the user wants information of the \n",
    "earliest Harry Potter movie, then use the search_movie_tool to get information of all Harry \n",
    "Potter movies and then use the movie_info_tool to get details of the first movie by\n",
    "searching based on its title.\n",
    "\n",
    "Your job is to be a conversational Movie Asssistant who keeps conversation going. You are witty and smart\n",
    "and answer user's questions, plus ask your own to keep it lively.\n",
    "If the user conversation is not related to any of the tools you have then answer to the best of your knowledge\n",
    "For a generic question, not related to movies/TV series feel free to use the wikipedia tool\n",
    "\n",
    "Look at the chain of messages below that include the user request.\n",
    "User Message : {input}\n",
    "\n",
    "Prior Chat history : {chat_history}\n",
    "'''\n",
    "\n",
    "assistant_prompt = PromptTemplate(\n",
    "        input_variables=[\"input\", \"chat_history\"], template=system_prompt)\n",
    "\n",
    "\n",
    "# LLM\n",
    "llm = ChatGroq(model_name=\"llama3-70b-8192\", temperature=0.3)\n",
    "# LLM Chain\n",
    "assistant_agent = assistant_prompt | llm.bind_tools(tools)"
   ]
  },
  {
   "cell_type": "code",
   "execution_count": 24,
   "metadata": {},
   "outputs": [
    {
     "name": "stdout",
     "output_type": "stream",
     "text": [
      "[{'name': 'Search_Movie', 'args': {'data': 'Harry Potter'}, 'id': 'call_rqgm'}]\n"
     ]
    }
   ],
   "source": [
    "input = \"Tell me about the first harry potter movie\"\n",
    "chat_history = []\n",
    "\n",
    "results = assistant_agent.invoke({\"input\": input, \"chat_history\": chat_history})\n",
    "print(results.tool_calls)"
   ]
  },
  {
   "cell_type": "code",
   "execution_count": 25,
   "metadata": {},
   "outputs": [
    {
     "name": "stdout",
     "output_type": "stream",
     "text": [
      "[{'name': 'Movie_Info_By_Title_Year', 'args': {'data': 'Inception'}, 'id': 'call_te08'}]\n"
     ]
    }
   ],
   "source": [
    "input = \"I need information on the movie called Inception including its tomato meter rating\"\n",
    "chat_history = []\n",
    "\n",
    "results = assistant_agent.invoke({\"input\": input, \"chat_history\": chat_history})\n",
    "print(results.tool_calls)"
   ]
  },
  {
   "cell_type": "code",
   "execution_count": 26,
   "metadata": {},
   "outputs": [
    {
     "name": "stdout",
     "output_type": "stream",
     "text": [
      "[{'name': 'wikipedia', 'args': {'query': 'first president of India'}, 'id': 'call_d9dc'}]\n"
     ]
    }
   ],
   "source": [
    "input = \"Tell me the first president of India\"\n",
    "chat_history = []\n",
    "\n",
    "results = assistant_agent.invoke({\"input\": input, \"chat_history\": chat_history})\n",
    "print(results.tool_calls)"
   ]
  },
  {
   "cell_type": "markdown",
   "metadata": {},
   "source": [
    "### Put this as a Class"
   ]
  },
  {
   "cell_type": "code",
   "execution_count": 27,
   "metadata": {},
   "outputs": [],
   "source": [
    "class Chatbot:\n",
    "    def __init__(self, model='llama3-70b-8192', temperature=0.3):\n",
    "        self.llm =  ChatGroq(model_name=model, temperature=temperature)\n",
    "        self.system_prompt = '''You are a helpful assistant who helps users get information\n",
    "        about movies and TV series. You can use a few different tools you have access to:\n",
    "\n",
    "        1. movie_info_tool - The input to this tool is movie title and optionally year. The\n",
    "        tool returns a brief plot, tomato meter rating and other information for the movie that matches the title\n",
    "\n",
    "        2. search_movie_tool - Use this tool to search for all movies matching a search string.\n",
    "\n",
    "        3. search_series_tool - Use this tool to search for all TV series matching a search string.\n",
    "\n",
    "        4. wikipedia - Generic tool to search for anything in the vast wikipedia corpus. Use this to\n",
    "        search and return information on any movie/TV series related question\n",
    "\n",
    "        You can use these tools in conjunction. For example if the user wants information of the \n",
    "        earliest Harry Potter movie, then use the search_movie_tool to get information of all Harry \n",
    "        Potter movies and then use the movie_info_tool to get details of the first movie by\n",
    "        searching based on its title.\n",
    "\n",
    "        Your job is to be a conversational Movie Asssistant who keeps conversation going. You are witty and smart\n",
    "        and answer user's questions, plus ask your own to keep it lively.\n",
    "        If the user conversation is not related to any of the tools you have then answer to the best of your knowledge\n",
    "        For a generic question, not related to movies/TV series feel free to use the wikipedia tool\n",
    "\n",
    "        Look at the user message below including the message history chain.\n",
    "        '''\n",
    "        self.memory = ChatMessageHistory(session_id=\"test-session\")\n",
    "        self.tools = [movie_info_tool, search_movie_tool, search_series_tool, wikipedia]\n",
    "    \n",
    "    def run(self, input):\n",
    "        assistant_prompt = ChatPromptTemplate.from_messages(\n",
    "        [\n",
    "            SystemMessage(\n",
    "            content=self.system_prompt\n",
    "        ),\n",
    "          MessagesPlaceholder(variable_name=\"chat_history\"),   \n",
    "          MessagesPlaceholder(variable_name=\"agent_scratchpad\"),\n",
    "\n",
    "         (\"user\", \"{input}\"),            \n",
    "        ] )\n",
    "\n",
    "        # Create the agent and its executor\n",
    "        assistant_agent = create_openai_tools_agent(self.llm, self.tools, assistant_prompt)\n",
    "        agent_executor = AgentExecutor(agent=assistant_agent, tools=tools, verbose=True)\n",
    "\n",
    "        agent_with_chat_history = RunnableWithMessageHistory(\n",
    "            agent_executor,\n",
    "            # This is needed because in most real world scenarios, a session id is needed\n",
    "            # It isn't really used here because we are using a simple in memory ChatMessageHistory\n",
    "            lambda session_id: self.memory,\n",
    "            input_messages_key=\"input\",\n",
    "            history_messages_key=\"chat_history\",\n",
    "        )\n",
    "        result = agent_with_chat_history.invoke({'input': input,}, config={\"configurable\": {\"session_id\": \"1234\"}})\n",
    "        return result"
   ]
  },
  {
   "cell_type": "code",
   "execution_count": 28,
   "metadata": {},
   "outputs": [
    {
     "name": "stdout",
     "output_type": "stream",
     "text": [
      "\n",
      "\n",
      "\u001b[1m> Entering new AgentExecutor chain...\u001b[0m\n",
      "\u001b[32;1m\u001b[1;3m\n",
      "Invoking: `Movie_Info_By_Title_Year` with `{'data': 'Inception'}`\n",
      "\n",
      "\n",
      "\u001b[0m\u001b[36;1m\u001b[1;3m{'title': 'Inception', 'year': '2010', 'rated': 'PG-13', 'released': '16 Jul 2010', 'runtime': '148 min', 'genre': 'Action, Adventure, Sci-Fi', 'director': 'Christopher Nolan', 'writer': 'Christopher Nolan', 'actors': 'Leonardo DiCaprio, Joseph Gordon-Levitt, Elliot Page', 'plot': \"Dom Cobb is a skilled thief, the absolute best in the dangerous art of extraction, stealing valuable secrets from deep within the subconscious during the dream state, when the mind is at its most vulnerable. Cobb's rare ability has made him a coveted player in this treacherous new world of corporate espionage, but it has also made him an international fugitive and cost him everything he has ever loved. Now Cobb is being offered a chance at redemption. One last job could give him his life back but only if he can accomplish the impossible, inception. Instead of the perfect heist, Cobb and his team of specialists have to pull off the reverse: their task is not to steal an idea, but to plant one. If they succeed, it could be the perfect crime. But no amount of careful planning or expertise can prepare the team for the dangerous enemy that seems to predict their every move. An enemy that only Cobb could have seen coming.\", 'language': 'English, Japanese, French', 'country': 'United States, United Kingdom', 'awards': 'Won 4 Oscars. 159 wins & 220 nominations total', 'poster': 'https://m.media-amazon.com/images/M/MV5BMjAxMzY3NjcxNF5BMl5BanBnXkFtZTcwNTI5OTM0Mw@@._V1_SX300.jpg', 'ratings': [{'source': 'Internet Movie Database', 'value': '8.8/10'}, {'source': 'Rotten Tomatoes', 'value': '87%'}, {'source': 'Metacritic', 'value': '74/100'}], 'metascore': '74', 'imdb_rating': '8.8', 'imdb_votes': '2,564,438', 'imdb_id': 'tt1375666', 'type': 'movie', 'tomato_meter': 'N/A', 'tomato_image': 'N/A', 'tomato_rating': 'N/A', 'tomato_reviews': 'N/A', 'tomato_fresh': 'N/A', 'tomato_rotten': 'N/A', 'tomato_consensus': 'N/A', 'tomato_user_meter': 'N/A', 'tomato_user_rating': 'N/A', 'tomato_user_reviews': 'N/A', 'tomato_url': 'https://www.rottentomatoes.com/m/inception/', 'dvd': 'N/A', 'box_office': '$292,587,330', 'production': 'N/A', 'website': 'N/A', 'response': 'True'}\u001b[0m\u001b[32;1m\u001b[1;3mYou're interested in learning more about the movie Inception! Well, let me tell you, it's a thought-provoking and visually stunning film that explores the concept of shared dreaming.\n",
      "\n",
      "Inception is a 2010 science fiction action film written and directed by Christopher Nolan. The movie follows Cobb, a skilled thief who specializes in entering people's dreams and stealing their secrets. Cobb is hired by a wealthy businessman named Saito to perform a task known as \"inception\" - planting an idea in someone's mind instead of stealing one.\n",
      "\n",
      "Cobb assembles a team of experts, including Arthur, a point man; Ariadne, an architect; Eames, a forger; and Saito, to help him pull off the impossible task. The team's mission is to plant the idea of breaking up a rival company in the mind of Robert Fischer, the son of a dying business magnate.\n",
      "\n",
      "As the team navigates the complex world of shared dreaming, they encounter various obstacles and challenges. They must use their skills and expertise to overcome the projections of their own subconscious and the defenses of the target's mind.\n",
      "\n",
      "The movie features a talented cast, including Leonardo DiCaprio as Cobb, Joseph Gordon-Levitt as Arthur, Ellen Page as Ariadne, Tom Hardy as Eames, and Marion Cotillard as Mal, Cobb's wife.\n",
      "\n",
      "Inception received widespread critical acclaim for its original storyline, impressive visuals, and thought-provoking themes. The film won four Academy Awards, including Best Cinematography, Best Sound Editing, Best Sound Mixing, and Best Visual Effects.\n",
      "\n",
      "If you haven't seen Inception yet, I highly recommend it. It's a thrilling and intellectually stimulating film that will keep you on the edge of your seat until the very end.\n",
      "\n",
      "Would you like to know more about the movie's themes, characters, or plot twists?\u001b[0m\n",
      "\n",
      "\u001b[1m> Finished chain.\u001b[0m\n",
      "{'input': 'Tell me about the movie inception', 'chat_history': [], 'output': 'You\\'re interested in learning more about the movie Inception! Well, let me tell you, it\\'s a thought-provoking and visually stunning film that explores the concept of shared dreaming.\\n\\nInception is a 2010 science fiction action film written and directed by Christopher Nolan. The movie follows Cobb, a skilled thief who specializes in entering people\\'s dreams and stealing their secrets. Cobb is hired by a wealthy businessman named Saito to perform a task known as \"inception\" - planting an idea in someone\\'s mind instead of stealing one.\\n\\nCobb assembles a team of experts, including Arthur, a point man; Ariadne, an architect; Eames, a forger; and Saito, to help him pull off the impossible task. The team\\'s mission is to plant the idea of breaking up a rival company in the mind of Robert Fischer, the son of a dying business magnate.\\n\\nAs the team navigates the complex world of shared dreaming, they encounter various obstacles and challenges. They must use their skills and expertise to overcome the projections of their own subconscious and the defenses of the target\\'s mind.\\n\\nThe movie features a talented cast, including Leonardo DiCaprio as Cobb, Joseph Gordon-Levitt as Arthur, Ellen Page as Ariadne, Tom Hardy as Eames, and Marion Cotillard as Mal, Cobb\\'s wife.\\n\\nInception received widespread critical acclaim for its original storyline, impressive visuals, and thought-provoking themes. The film won four Academy Awards, including Best Cinematography, Best Sound Editing, Best Sound Mixing, and Best Visual Effects.\\n\\nIf you haven\\'t seen Inception yet, I highly recommend it. It\\'s a thrilling and intellectually stimulating film that will keep you on the edge of your seat until the very end.\\n\\nWould you like to know more about the movie\\'s themes, characters, or plot twists?'}\n"
     ]
    }
   ],
   "source": [
    "movie_agent = Chatbot(model='llama3-8b-8192')\n",
    "print(movie_agent.run(\"Tell me about the movie inception\"))"
   ]
  }
 ],
 "metadata": {
  "kernelspec": {
   "display_name": "test",
   "language": "python",
   "name": "python3"
  },
  "language_info": {
   "codemirror_mode": {
    "name": "ipython",
    "version": 3
   },
   "file_extension": ".py",
   "mimetype": "text/x-python",
   "name": "python",
   "nbconvert_exporter": "python",
   "pygments_lexer": "ipython3",
   "version": "3.12.4"
  }
 },
 "nbformat": 4,
 "nbformat_minor": 2
}
